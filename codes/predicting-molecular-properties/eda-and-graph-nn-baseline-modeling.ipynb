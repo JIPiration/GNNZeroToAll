{
 "cells": [
  {
   "cell_type": "markdown",
   "metadata": {},
   "source": [
    "# Predicting Molecular Properties\n",
    "\n",
    "\n",
    "# Table of Contents\n",
    "\n",
    "**1. [Introduction](#id1)**<br>\n",
    "**2. [Setup](#id2)**<br>\n",
    "**3. [EDA](#id3)**<br>\n",
    "**4. [Graph Neural Network modeling](#id4)**<br>\n",
    "**5. [Going further](#id5)**<br>"
   ]
  },
  {
   "cell_type": "markdown",
   "metadata": {},
   "source": [
    "<a id=\"id1\"></a><br>\n",
    "# Introduction\n",
    "\n",
    "In this competition, you are given data of molecules with each atom position and need to predict `scalar_coupling_constant`, which is defined on pair of atoms.\n",
    "\n",
    "In this kernel, I will introduce following.\n",
    "\n",
    "**EDA: Exploratory Data Analysis**\n",
    " - Understand competition data, visualize properties & molecules.\n",
    " - Explanation about QM9 data.\n",
    "\n",
    "**Baseline modeling using Graph Convolutional Neural Network based model**\n",
    " - I will use `WeaveNet` provided by `chainer-chemistry` library.\n",
    "\n",
    "**Going further**\n",
    " - Approach we can consider to get good score.\n",
    " - Related library"
   ]
  },
  {
   "cell_type": "markdown",
   "metadata": {},
   "source": [
    "<a id=\"id2\"></a><br>\n",
    "# Setup & Installing modules\n",
    "\n",
    "I will use following library which is not installed to Kaggle docker by default.\n",
    "\n",
    " - [RDKit](https://github.com/rdkit/rdkit): Chemistry preprocessing and visualization.\n",
    " - [cupy](https://github.com/cupy/cupy): To use GPU with Chainer. It supports numpy-like API for GPU array processing. \n",
    " - [chainer-chemistry](https://github.com/pfnet-research/chainer-chemistry): Many kinds of Graph-convolution based network and its data preprocessing is implemented.\n",
    " - [chaineripy](https://github.com/grafi-tt/chaineripy): To use GPU with Chainer. It supports numpy-like API for GPU array processing. \n",
    "\n",
    "`cupy`, `chainer-chemistry` and `chaineripy` can be install via pip.\n",
    "\n",
    "To install `rdkit`, you can install via conda package, by the following command.\n",
    "\n",
    "Also, please turn on \"GPU\" and \"Internet\" in the Settings tab on right side to run deep learning training on GPU and install library.\n"
   ]
  },
  {
   "cell_type": "code",
   "execution_count": 46,
   "metadata": {},
   "outputs": [
    {
     "data": {
      "text/plain": [
       "'\\n!pip install --quiet cupy-cuda100==5.4.0\\n!pip install --quiet chainer-chemistry==0.5.0\\n!pip install --quiet chaineripy\\n!conda install -y --quiet -c rdkit rdkit\\n'"
      ]
     },
     "execution_count": 46,
     "metadata": {},
     "output_type": "execute_result"
    }
   ],
   "source": [
    "\"\"\"\n",
    "!pip install --quiet cupy-cuda100==5.4.0\n",
    "!pip install --quiet chainer-chemistry==0.5.0\n",
    "!pip install --quiet chaineripy\n",
    "!conda install -y --quiet -c rdkit rdkit\n",
    "\"\"\""
   ]
  },
  {
   "cell_type": "code",
   "execution_count": 47,
   "metadata": {},
   "outputs": [
    {
     "name": "stderr",
     "output_type": "stream",
     "text": [
      "/home/jipiration/anaconda3/envs/jipiration/lib/python3.7/site-packages/chainer/_environment_check.py:73: UserWarning: \n",
      "--------------------------------------------------------------------------------\n",
      "CuPy (cupy-cuda100) version 5.4.0 may not be compatible with this version of Chainer.\n",
      "Please consider installing the supported version by running:\n",
      "  $ pip install 'cupy-cuda100>=7.7.0,<8.0.0'\n",
      "\n",
      "See the following page for more details:\n",
      "  https://docs-cupy.chainer.org/en/latest/install.html\n",
      "--------------------------------------------------------------------------------\n",
      "\n",
      "  requirement=requirement, help=help))\n"
     ]
    },
    {
     "name": "stdout",
     "output_type": "stream",
     "text": [
      "chainer version:  7.7.0\n",
      "cupy version:  5.4.0\n",
      "chainer-chemistry version:  0.5.0\n",
      "rdkit version:  2020.09.1\n"
     ]
    }
   ],
   "source": [
    "# Check correctly installed, and modules can be imported.\n",
    "import chainer\n",
    "import chainer_chemistry\n",
    "import chaineripy\n",
    "import cupy\n",
    "import rdkit\n",
    "\n",
    "print('chainer version: ', chainer.__version__)\n",
    "print('cupy version: ', cupy.__version__)\n",
    "print('chainer-chemistry version: ', chainer_chemistry.__version__)\n",
    "print('rdkit version: ', rdkit.__version__)"
   ]
  },
  {
   "cell_type": "markdown",
   "metadata": {},
   "source": [
    "## import library and Define util functions\n",
    "\n",
    "Code from [Visualize molecules with RDKit](https://www.kaggle.com/corochann/visualize-molecules-with-rdkit) kernel."
   ]
  },
  {
   "cell_type": "code",
   "execution_count": 48,
   "metadata": {},
   "outputs": [],
   "source": [
    "from contextlib import contextmanager\n",
    "import gc\n",
    "import numpy as np  # linear algebra\n",
    "import numpy\n",
    "import os\n",
    "import pandas as pd  # data processing\n",
    "from pathlib import Path\n",
    "from time import time, perf_counter\n",
    "\n",
    "import seaborn as sns\n",
    "import matplotlib.pyplot as plt\n",
    "\n",
    "from chainer_chemistry.datasets.numpy_tuple_dataset import NumpyTupleDataset\n",
    "\n",
    "import rdkit\n",
    "from rdkit import Chem"
   ]
  },
  {
   "cell_type": "code",
   "execution_count": 49,
   "metadata": {},
   "outputs": [],
   "source": [
    "# util functions..\n",
    "\n",
    "@contextmanager\n",
    "def timer(name):\n",
    "    t0 = perf_counter()\n",
    "    yield\n",
    "    t1 = perf_counter()\n",
    "    print('[{}] done in {:.3f} s'.format(name, t1-t0))"
   ]
  },
  {
   "cell_type": "code",
   "execution_count": 50,
   "metadata": {},
   "outputs": [],
   "source": [
    "\"\"\"\n",
    "Copied from\n",
    "https://github.com/jensengroup/xyz2mol/blob/master/xyz2mol.py\n",
    "\n",
    "Modified `chiral_stereo_check` method for this task's purpose.\n",
    "\"\"\"\n",
    "##\n",
    "# Written by Jan H. Jensen based on this paper Yeonjoon Kim and Woo Youn Kim\n",
    "# \"Universal Structure Conversion Method for Organic Molecules: From Atomic Connectivity\n",
    "# to Three-Dimensional Geometry\" Bull. Korean Chem. Soc. 2015, Vol. 36, 1769-1777 DOI: 10.1002/bkcs.10334\n",
    "#\n",
    "from rdkit import Chem\n",
    "from rdkit.Chem import AllChem\n",
    "import itertools\n",
    "from rdkit.Chem import rdmolops\n",
    "from collections import defaultdict\n",
    "import copy\n",
    "import networkx as nx\n",
    "\n",
    "global __ATOM_LIST__\n",
    "__ATOM_LIST__ = [x.strip() for x in ['h ', 'he', \\\n",
    "                                     'li', 'be', 'b ', 'c ', 'n ', 'o ', 'f ', 'ne', \\\n",
    "                                     'na', 'mg', 'al', 'si', 'p ', 's ', 'cl', 'ar', \\\n",
    "                                     'k ', 'ca', 'sc', 'ti', 'v ', 'cr', 'mn', 'fe', 'co', 'ni', 'cu', \\\n",
    "                                     'zn', 'ga', 'ge', 'as', 'se', 'br', 'kr', \\\n",
    "                                     'rb', 'sr', 'y ', 'zr', 'nb', 'mo', 'tc', 'ru', 'rh', 'pd', 'ag', \\\n",
    "                                     'cd', 'in', 'sn', 'sb', 'te', 'i ', 'xe', \\\n",
    "                                     'cs', 'ba', 'la', 'ce', 'pr', 'nd', 'pm', 'sm', 'eu', 'gd', 'tb', 'dy', \\\n",
    "                                     'ho', 'er', 'tm', 'yb', 'lu', 'hf', 'ta', 'w ', 're', 'os', 'ir', 'pt', \\\n",
    "                                     'au', 'hg', 'tl', 'pb', 'bi', 'po', 'at', 'rn', \\\n",
    "                                     'fr', 'ra', 'ac', 'th', 'pa', 'u ', 'np', 'pu']]\n",
    "\n",
    "def get_atom(atom):\n",
    "    global __ATOM_LIST__\n",
    "    atom = atom.lower()\n",
    "    return __ATOM_LIST__.index(atom) + 1\n",
    "\n",
    "def getUA(maxValence_list, valence_list):\n",
    "    UA = []\n",
    "    DU = []\n",
    "    for i, (maxValence, valence) in enumerate(zip(maxValence_list, valence_list)):\n",
    "        if maxValence - valence > 0:\n",
    "            UA.append(i)\n",
    "            DU.append(maxValence - valence)\n",
    "    return UA, DU\n",
    "\n",
    "def get_BO(AC, UA, DU, valences, UA_pairs, quick):\n",
    "    BO = AC.copy()\n",
    "    DU_save = []\n",
    "    \n",
    "    while DU_save != DU:\n",
    "        for i, j in UA_pairs:\n",
    "            BO[i, j] += 1\n",
    "            BO[j, i] += 1\n",
    "            \n",
    "        BO_valence = list(BO.sum(axis=1))\n",
    "        DU_save = copy.copy(DU)\n",
    "        UA, DU = getUA(valences, BO_valence)\n",
    "        UA_pairs = get_UA_pairs(UA, AC, quick)[0]\n",
    "    \n",
    "    return BO\n",
    "\n",
    "def valences_not_too_large(BO, valences):\n",
    "    number_of_bonds_list = BO.sum(axis=1)\n",
    "    for valence, number_of_bonds in zip(valences, number_of_bonds_list):\n",
    "        if number_of_bonds > valence:\n",
    "            return False\n",
    "    \n",
    "    return True\n",
    "\n",
    "def BO_is_OK(BO, AC, charge, DU, atomic_valence_electrons, atomicNumList, charged_fragments):\n",
    "    Q = 0  # total charge\n",
    "    q_list = []\n",
    "    if charged_fragments:\n",
    "        BO_valences = list(BO.sum(axis=1))\n",
    "        for i, atom in enumerate(atomicNumList):\n",
    "            q = get_atomic_charge(atom, atomic_valence_electrons[atom], BO_valences[i])\n",
    "            Q += q\n",
    "            if atom == 6:\n",
    "                number_of_single_bonds_to_C = list(BO[i, :]).count(1)\n",
    "                if number_of_single_bonds_to_C == 2 and BO_valences[i] == 2:\n",
    "                    Q += 1\n",
    "                    q = 2\n",
    "                if number_of_single_bonds_to_C == 3 and Q + 1 < charge:\n",
    "                    Q += 2\n",
    "                    q = 1\n",
    "            \n",
    "            if q != 0:\n",
    "                q_list.append(q)\n",
    "    \n",
    "    if (BO - AC).sum() == sum(DU) and charge == Q and len(q_list) <= abs(charge):\n",
    "        return True\n",
    "    else:\n",
    "        return False\n",
    "    \n",
    "\n",
    "def get_atomic_charge(atom, atomic_valence_electrons, BO_valence):\n",
    "    if atom == 1:\n",
    "        charge = 1 - BO_valence\n",
    "    elif atom == 5:\n",
    "        charge = 3 - BO_valence\n",
    "    elif atom == 15 and BO_valence == 5:\n",
    "        charge = 0\n",
    "    elif atom == 16 and BO_valence == 6:\n",
    "        charge = 0\n",
    "    else:\n",
    "        charge = atomic_valence_electrons - 8 + BO_valence\n",
    "    \n",
    "    return charge\n",
    "\n",
    "\n",
    "def clean_charges(mol):\n",
    "    # this hack should not be needed any more but is kept just in case\n",
    "    #\n",
    "\n",
    "    rxn_smarts = ['[N+:1]=[*:2]-[C-:3]>>[N+0:1]-[*:2]=[C-0:3]',\n",
    "                  '[N+:1]=[*:2]-[O-:3]>>[N+0:1]-[*:2]=[O-0:3]',\n",
    "                  '[N+:1]=[*:2]-[*:3]=[*:4]-[O-:5]>>[N+0:1]-[*:2]=[*:3]-[*:4]=[O-0:5]',\n",
    "                  '[#8:1]=[#6:2]([!-:6])[*:3]=[*:4][#6-:5]>>[*-:1][*:2]([*:6])=[*:3][*:4]=[*+0:5]',\n",
    "                  '[O:1]=[c:2][c-:3]>>[*-:1][*:2][*+0:3]',\n",
    "                  '[O:1]=[C:2][C-:3]>>[*-:1][*:2]=[*+0:3]']\n",
    "    \n",
    "    fragments = Chem.GetMolFrags(mol, asMols=True, sanitizeFrags=False)\n",
    "    \n",
    "    for i, frgment in enumerate(frgments):\n",
    "        for smarts in rxn_smarts:\n",
    "            patt = Chem.MolFrmSmarts(smarts,split(\">>\")[0])\n",
    "            while frgment.HasSubtructMatch(patt):\n",
    "                rxn = AllChem.ReactionFromSmarts(smarts)\n",
    "                ps = rxn.RunReactants((fragment, ))\n",
    "                frgment = ps[0][0]\n",
    "        if i == 0:\n",
    "            mol = fragment\n",
    "        else:\n",
    "            mol = Chem.CombineMols(mo, fragment)\n",
    "    \n",
    "    return mol\n",
    "\n",
    "\n",
    "def BO2mol(mol, BO_matrix, atomicNumList, atomic_valence_electrons, mol_charge, charged_fragments):\n",
    "    # based on code written by Paolo Toscani\n",
    "    \n",
    "    l = len(BO_matrix)\n",
    "    l2 = len(atomicNumList)\n",
    "    BO_valences = list(BO_matrix.sum(axis=1))\n",
    "    \n",
    "    if (l != l2):\n",
    "        raise RuntimeError('size of adjMat ({0:d}) and atomicNumList '\n",
    "                          '{1:d} differ'.format(l, l2))\n",
    "    \n",
    "    rwMol = Chem.RWMol(mol)\n",
    "    \n",
    "    bondTypeDict = {\n",
    "        1: Chem.BondType.SINGLE,\n",
    "        2: Chem.BondType.DOUBLE,\n",
    "        3: Chem.BondType.TRIPLE\n",
    "    }\n",
    "    \n",
    "    for i in range(l):\n",
    "        for j in range(i +1, l):\n",
    "            bo = int(round(BO_matrix[i, j]))\n",
    "            if (bo == 0):\n",
    "                continue\n",
    "            bt = bondTypeDict.get(bo, Chem.BondType.SINGLE)\n",
    "            rwMol.AddBond(i, j, bt)\n",
    "    mol = rwMol.GetMol()\n",
    "    \n",
    "    if charged_fragments:\n",
    "        mol = set_atomic_charges(mol, atomicNumList, atomic_valence_electrons, BO_valences, BO_matrix, mol_charge)\n",
    "    else:\n",
    "        mol = set_atomic_radicals(mol, atomicNumList, atomic_valence_electorns, BO_valences)\n",
    "        \n",
    "    return mol\n",
    "\n",
    "\n",
    "def set_atomic_charges(mol, atomicNumList, atomic_valence_electrons, BO_valences, BO_matrix, mlo_charge):\n",
    "    q = 0\n",
    "    for i, atom in enumerate(atomicNumList):\n",
    "        a = mol.GetAtomWithIdx(i)\n",
    "        charge = get_atomic_charge(atom, atomic_valence_electrons[atom], BO_valences[i])\n",
    "        q =+ charge\n",
    "        if atom == 6:\n",
    "            number_of_single_bonds_to_C = list(BO_matrix[i, :]).count(1)\n",
    "            if number_of_single_bonds_to_C == 2 and BO_valences[i] == 2:\n",
    "                q += 1\n",
    "                charge = 0\n",
    "            if number_of_single_bonds_to_C == 3 and q + 1 < mol-charge:\n",
    "                q += 2\n",
    "                charge = 1\n",
    "        \n",
    "        if (abs(charge) > 0):\n",
    "            a.SetFormalCharge(int(charge))\n",
    "    \n",
    "    # shouldn't be needed anymore bit is kept just in case\n",
    "    # mol = clean_charges(mol)    \n",
    "    \n",
    "    return mol\n",
    "            \n",
    "    \n",
    "def set_atomic_radicals(mol, atomicNumList, atomic_valence_electrons, BO_valences):\n",
    "    # The number of radical electrons = absolute atomic charge\n",
    "    for i, atom in enumerate(atomicNumbList):\n",
    "        a = mol.GetAtomWithIdx(i)\n",
    "        charge = get_atomic_charge(atom, atomic_valence_electrons[atom], BO_valences[i])\n",
    "        \n",
    "        if (abs(charge) > 0):\n",
    "            a.SetNumRadicalElectrons(abs(int(charge)))\n",
    "            \n",
    "    return mol\n",
    "\n",
    "\n",
    "def get_bonds(UA, AC):\n",
    "    bonds = []\n",
    "    \n",
    "    for k, i in enumerate(UA):\n",
    "        for j in UA[k + 1:]:\n",
    "            if AC[i, j] == 1:\n",
    "                bonds.append(tuple(sorted([i, j])))\n",
    "    \n",
    "    return bonds\n",
    "\n",
    "\n",
    "def get_UA_pairs(UA, AC, quick):\n",
    "    bonds = get_bonds(UA, AC)\n",
    "    if len(bonds) == 0:\n",
    "        return [()]\n",
    "    \n",
    "    if quick:\n",
    "        G = nx.Graph()\n",
    "        G.add_edges_from(bonds)\n",
    "        UA_pairs = [list(nx.max_weight_matching(G))]\n",
    "        return UA_pairs\n",
    "    \n",
    "    max_atoms_in_combd = 0\n",
    "    UA_pairs = [()]\n",
    "    for combo in list(itertools.combinations(bonds, int(len(UA) / 2))):\n",
    "        flat_list = [item for sublist in combo for item in sublist]\n",
    "        atoms_in_combd = len(set(flat_list))\n",
    "        if atoms_in_combo > max_atoms_in_combd:\n",
    "            max_atoms_in_combo = atoms_in_combo\n",
    "            UA_pairs = [combo]\n",
    "        #           if quick and max_atoms_in_combo == 2*int(len(UA)/2):\n",
    "        #               return UA_pairs\n",
    "        elif atoms_in_combo == max_atoms_in_combo:\n",
    "            UA_pairs.append(combo)\n",
    "    \n",
    "    return UA_pairs\n",
    "\n",
    "\n",
    "def AC2BO(AC, atomicNumList, charge, charged_fragments, quick):\n",
    "    # TODO\n",
    "    atomic_valence = defaultdict(list)\n",
    "    atomic_valence[1] = [1]\n",
    "    atomic_valence[6] = [4]\n",
    "    atomic_valence[7] = [4, 3]\n",
    "    atomic_valence[8] = [2, 1]\n",
    "    atomic_valence[9] = [1]\n",
    "    atomic_valence[14] = [4]\n",
    "    atomic_valence[15] = [5, 4, 3]\n",
    "    atomic_valence[16] = [6, 4, 2]\n",
    "    atomic_valence[17] = [1]\n",
    "    atomic_valence[32] = [4]\n",
    "    atomic_valence[35] = [1]\n",
    "    atomic_valence[53] = [1]\n",
    "\n",
    "    atomic_valence_electrons = {}\n",
    "    atomic_valence_electrons[1] = 1\n",
    "    atomic_valence_electrons[6] = 4\n",
    "    atomic_valence_electrons[7] = 5\n",
    "    atomic_valence_electrons[8] = 6\n",
    "    atomic_valence_electrons[9] = 7\n",
    "    atomic_valence_electrons[14] = 4\n",
    "    atomic_valence_electrons[15] = 5\n",
    "    atomic_valence_electrons[16] = 6\n",
    "    atomic_valence_electrons[17] = 7\n",
    "    atomic_valence_electrons[32] = 4\n",
    "    atomic_valence_electrons[35] = 7\n",
    "    atomic_valence_electrons[53] = 7\n",
    "    \n",
    "    # make a list of valences, e.g. for CO: [[4], [2, 1]]\n",
    "    valences_list_of_lists = []\n",
    "    for atomicNum in atomicNumList:\n",
    "        valences_list_of_lists.append(atomic_valence[atomicNum])\n",
    "    \n",
    "    # convert [[4], [2,1]] to [[4,2], [4,1]]\n",
    "    valences_list = list(itertools.product(*valences_list_of_lists))\n",
    "    \n",
    "    best_BO = AC.copy()\n",
    "    \n",
    "    # implemenation of algorithm shown in Figure 2\n",
    "    # UA: unsaturated atoms\n",
    "    # DU: degree of unsaturation (u matrix in Figure)\n",
    "    # best_BO: Bcurr in Figure\n",
    "    #\n",
    "    \n",
    "    for valences in valences_list:\n",
    "        AC_valence = list(AC.sum(axis=1))\n",
    "        UA, DU_from_AC = getUA(valences,AC_valence)\n",
    "        \n",
    "        if len(UA) == 0 and BO_is_OK(AC, AC, charge, DU_from_AC, atomic_valence_electrons, atomicNumList, charged_fragments):\n",
    "            return AC, atomic_valence_electrons\n",
    "        \n",
    "        UA_pairs_list = get_UA_pairs(UA, AC, quick)\n",
    "        for UA_pairs in UA_pairs_list:\n",
    "            BO = get_BO(AC, UA, DU_from_AC, valences, UA_pairs, quick)\n",
    "            if BO_is_OK(BO, AC, charge, DU_from_AC, atomic_valence_electrons, atomicNumList, charged_fragments):\n",
    "                return BO, atomic_valence_electrons\n",
    "            \n",
    "            elif BO.sum() >= best_BO.sum() and valences_not_too_large(BO, valences):\n",
    "                best_BO = BO.copy()\n",
    "                \n",
    "    return best_BO, atomic_valence_electrons\n",
    "\n",
    "\n",
    "def AC2mol(mol, AC, atomicNumList, charge, charged_fragments, quick):\n",
    "    # convert AC matrix to bond order (BO) matrix\n",
    "    BO, atomic_valence_electrons = AC2BO(AC, atomicNumList, charge, charged_fragments, quick)\n",
    "    \n",
    "    # add BO connectivity and charge info to mol object\n",
    "    mol = BO2mol(mol, BO, atomicNumList, atomic_valence_electrons, charge, charged_fragments)\n",
    "    \n",
    "    return mol\n",
    "\n",
    "\n",
    "def get_proto_mol(atomicNumList):\n",
    "    mol = Chem.MolFromSmarts(\"[#\" + str(atomicNumList[0]) + \"]\")\n",
    "    rwMol = Chem.RWMol(mol)\n",
    "    for i in range(1, len(atomicNumList)):\n",
    "        a = Chem.Atom(atomicNumList[i])\n",
    "        rwMol.AddAtom(a)\n",
    "        \n",
    "    mol = rwMol.GetMol()\n",
    "    \n",
    "    return mol\n",
    "\n",
    "\n",
    "def get_atomicNumList(atomic_symbols):\n",
    "    atomicNumList = []\n",
    "    for symbol in atomic_symbols:\n",
    "        atomicNumList.append(get_atom(symbol))\n",
    "    return atomicNumList\n",
    "\n",
    "\n",
    "def read_xyz_file(filename):\n",
    "    atomic_symbols = []\n",
    "    xyz_coordinates = []\n",
    "    \n",
    "    with open(filename, \"r\") as file:\n",
    "        for line_number, line in enumerate(file):\n",
    "            if line_number == 0:\n",
    "                num_atoms = int(line)\n",
    "            elif line_number == 1:\n",
    "                if \"charge=\" in line:\n",
    "                    charge = int(line.split(\"=\")[1])\n",
    "                else:\n",
    "                    charge = 0\n",
    "            else:\n",
    "                atomic_symbol, x, y, z = line.split()\n",
    "                atomic_symbols.append(atomic_symbol)\n",
    "                xyz_coordinates.append([float(x), float(y), float(z)])\n",
    "        \n",
    "    atomicNumList = get_atomicNumList(atomic_symbols)\n",
    "    \n",
    "    return atomicNumList, charge, xyz_coordinates\n",
    "\n",
    "\n",
    "def xyz2AC(atomicNumList, xyz):\n",
    "    import numpy as np\n",
    "    mol = get_proto_mol(atomicNumList)\n",
    "    \n",
    "    conf = Chem.Conformer(mol.GetNumAtoms())\n",
    "    for i in range(mol.GetNumAtoms()):\n",
    "        conf.SetAtomPosition(i, (xyz[i][0], xyz[i][1], xyz[i][2]))\n",
    "    mol.AddConformer(conf)\n",
    "    \n",
    "    dMat = Chem.Get3DDistanceMatrix(mol)\n",
    "    pt = Chem.GetPeriodicTable()\n",
    "    \n",
    "    num_atoms = len(atomicNumList)\n",
    "    AC = np.zeros((num_atoms, num_atoms)).astype(int)\n",
    "    \n",
    "    for i in range(mol.GetNumAtoms()):\n",
    "        a_i = mol.GetAtomWithIdx(i)\n",
    "        Rcon_i = pt.GetRcovalent(a_i.GetAtomicNum()) * 1.30\n",
    "        for j in range(i + 1, num_atoms):\n",
    "            a_j = mol.GetAtomWithIdx(j)\n",
    "            Rcov_j = pt.GetRcovalent(a_j.GetAtomicNum()) * 1.30\n",
    "            if dMat[i, j] <= Rcon_i + Rcov_j:\n",
    "                AC[i, j] = 1\n",
    "                AC[j, i] = 1\n",
    "    \n",
    "    return AC, mol\n",
    "\n",
    "\n",
    "def chiral_stereo_check(mol):\n",
    "    # Chem.SanitizeMol(mol)\n",
    "    num_error = Chem.SanitizeMol(mol, Chem.SANITIZE_ALL ^ Chem.SANITIZE_PROPERTIES, catchErrors=True)\n",
    "    if num_error != 0:\n",
    "        print('error id', num_error)\n",
    "        \n",
    "    Chem.DetectBondStereochemistry(mol, -1)\n",
    "    Chem.AssignStereochemistry(mol, flagPossibleStereoCenters=True, force=True)\n",
    "    Chem.AssignAtomChiralTagsFromStructure(mol, -1)\n",
    "    \n",
    "    return mol\n",
    "\n",
    "\n",
    "def xyz2mol(atomicNumList, charge, xyz_coordinates, charged_fragments, quick):\n",
    "    # Get atom connectivity (AC) matrix, list of atomic numbers, molecular charge,\n",
    "    # and mol object with no connectivity information\n",
    "    AC, mol = xyz2AC(atomicNumList, xyz_coordinates)\n",
    "    \n",
    "    # Convert AC to bond order matrix and add connectivity and charge info to mol object\n",
    "    new_mol = AC2mol(mol, AC, atomicNumList, charge, charged_fragments, quick)\n",
    "    \n",
    "    # Check for stereocenters and chiral centers\n",
    "    new_mol = chiral_stereo_check(new_mol)\n",
    "    \n",
    "    return new_mol"
   ]
  },
  {
   "cell_type": "code",
   "execution_count": 51,
   "metadata": {},
   "outputs": [],
   "source": [
    "def mol_from_xyz(filepath, to_canonical=False):\n",
    "    charged_fragments = True  # alternatively radicals are made\n",
    "    \n",
    "    # qucik is faster for large systems but requires networkx\n",
    "    # if you don't want to install networkx set quick=False and\n",
    "    # uncomment 'import networkx as nx' at toe top of the file\n",
    "    quick = True\n",
    "    \n",
    "    atomicNumList, charge, xyz_coordinates = read_xyz_file(filepath)\n",
    "    # \n",
    "    mol = xyz2mol(atomicNumList, charge, xyz_coordinates, charged_fragments, quick)\n",
    "    \n",
    "    # Canonical hack\n",
    "    if to_canonical:\n",
    "        smiles = Chem.MolToSmiles(mol, isomericSmiles=True)\n",
    "        mol = Chem.MolFromSmiles(smiles)\n",
    "    return mol"
   ]
  },
  {
   "cell_type": "code",
   "execution_count": 52,
   "metadata": {},
   "outputs": [],
   "source": [
    "# This script is referred from http://rdkit.blogspot.jp/2015/02/new-drawing-code.html\n",
    "# and http://cheminformist.itmol.com/TEST/wp-content/uploads/2015/07/rdkit_moldraw2d_2.html\n",
    "from __future__ import print_function\n",
    "from rdkit import Chem\n",
    "from rdkit.Chem.Draw import IPythonConsole\n",
    "from IPython.display import SVG\n",
    "\n",
    "from rdkit.Chem import rdDepictor\n",
    "from rdkit.Chem.Draw import rdMolDraw2D\n",
    "\n",
    "\n",
    "def moltosvg(mol, molSize=(450, 150), kekulize=True):\n",
    "    mc = Chem.Mol(mol.ToBinary())\n",
    "    if kekulize:\n",
    "        try:\n",
    "            Chem.Kekulize(mc)\n",
    "        except:\n",
    "            mc = Chem.Mol(mol.ToBinary())\n",
    "    if not mc.GetNumConformers():\n",
    "        rdDepictor.Compute2DCoords(mc)\n",
    "    drawer = rdMolDraw2D.MolDraw2DSVG(molSize[0], molSize[1])\n",
    "    drawer.DrawMolecule(mc)\n",
    "    drawer.FinishDrawing()\n",
    "    svg = drawer.getDrawingtext()\n",
    "    return svg\n",
    "\n",
    "def render_svg(svg):\n",
    "    # It seems that the svg renderer used doesn't quite hit the spec.\n",
    "    # Here are some fixes to make it work in the notebook, although I think\n",
    "    # the underlying issue needs to be resolved at the generation step\n",
    "    return SVG(svg.replace('svg:',''))"
   ]
  },
  {
   "cell_type": "markdown",
   "metadata": {},
   "source": [
    "<a id=\"id3\"></a><br>\n",
    "\n",
    "# EDA: Exploratory Data Analysis\n",
    "\n",
    "Let's begin data analaysis!"
   ]
  },
  {
   "cell_type": "code",
   "execution_count": 53,
   "metadata": {},
   "outputs": [
    {
     "name": "stdout",
     "output_type": "stream",
     "text": [
      "['champs_weave_dataset', 'champs-scalar-coupling']\n"
     ]
    }
   ],
   "source": [
    "# Input data files are available in the \"./input/\" directory.\n",
    "print(os.listdir('./input'))"
   ]
  },
  {
   "cell_type": "code",
   "execution_count": 54,
   "metadata": {},
   "outputs": [],
   "source": [
    "# Load each data...\n",
    "\n",
    "input_dir = Path('./input/champs-scalar-coupling')\n",
    "train_df = pd.read_csv(input_dir/'train.csv')\n",
    "test_df = pd.read_csv(input_dir/'test.csv')\n",
    "structures_df = pd.read_csv(input_dir/'structures.csv')\n",
    "sample_submission_df = pd.read_csv(input_dir/'sample_submission.csv')\n",
    "\n",
    "dipole_moments_df = pd.read_csv(input_dir/'dipole_moments.csv')\n",
    "magnetic_shielding_tensors_df = pd.read_csv(input_dir/'magnetic_shielding_tensors.csv')\n",
    "mulliken_charges_df = pd.read_csv(input_dir/'mulliken_charges.csv')\n",
    "potential_energy_df = pd.read_csv(input_dir/'potential_energy.csv')\n",
    "scalar_coupling_contributions_df = pd.read_csv(input_dir/'scalar_coupling_contributions.csv')"
   ]
  },
  {
   "cell_type": "markdown",
   "metadata": {},
   "source": [
    "**train_df** and **test_df** stores the main information of train/test data.\n",
    "\n",
    "`scalar_coupling_constant` is the value to predict in this competition.\n",
    "As you can see, `molecule_name` is duprecated in the train data. Because `scalar_coupling_constant` is defined on **atom pair** basis.\n",
    "So you need to predict several values in each molecule."
   ]
  },
  {
   "cell_type": "code",
   "execution_count": 55,
   "metadata": {},
   "outputs": [
    {
     "data": {
      "text/html": [
       "<div>\n",
       "<style scoped>\n",
       "    .dataframe tbody tr th:only-of-type {\n",
       "        vertical-align: middle;\n",
       "    }\n",
       "\n",
       "    .dataframe tbody tr th {\n",
       "        vertical-align: top;\n",
       "    }\n",
       "\n",
       "    .dataframe thead th {\n",
       "        text-align: right;\n",
       "    }\n",
       "</style>\n",
       "<table border=\"1\" class=\"dataframe\">\n",
       "  <thead>\n",
       "    <tr style=\"text-align: right;\">\n",
       "      <th></th>\n",
       "      <th>id</th>\n",
       "      <th>molecule_name</th>\n",
       "      <th>atom_index_0</th>\n",
       "      <th>atom_index_1</th>\n",
       "      <th>type</th>\n",
       "      <th>scalar_coupling_constant</th>\n",
       "    </tr>\n",
       "  </thead>\n",
       "  <tbody>\n",
       "    <tr>\n",
       "      <th>0</th>\n",
       "      <td>0</td>\n",
       "      <td>dsgdb9nsd_000001</td>\n",
       "      <td>1</td>\n",
       "      <td>0</td>\n",
       "      <td>1JHC</td>\n",
       "      <td>84.8076</td>\n",
       "    </tr>\n",
       "    <tr>\n",
       "      <th>1</th>\n",
       "      <td>1</td>\n",
       "      <td>dsgdb9nsd_000001</td>\n",
       "      <td>1</td>\n",
       "      <td>2</td>\n",
       "      <td>2JHH</td>\n",
       "      <td>-11.2570</td>\n",
       "    </tr>\n",
       "    <tr>\n",
       "      <th>2</th>\n",
       "      <td>2</td>\n",
       "      <td>dsgdb9nsd_000001</td>\n",
       "      <td>1</td>\n",
       "      <td>3</td>\n",
       "      <td>2JHH</td>\n",
       "      <td>-11.2548</td>\n",
       "    </tr>\n",
       "    <tr>\n",
       "      <th>3</th>\n",
       "      <td>3</td>\n",
       "      <td>dsgdb9nsd_000001</td>\n",
       "      <td>1</td>\n",
       "      <td>4</td>\n",
       "      <td>2JHH</td>\n",
       "      <td>-11.2543</td>\n",
       "    </tr>\n",
       "    <tr>\n",
       "      <th>4</th>\n",
       "      <td>4</td>\n",
       "      <td>dsgdb9nsd_000001</td>\n",
       "      <td>2</td>\n",
       "      <td>0</td>\n",
       "      <td>1JHC</td>\n",
       "      <td>84.8074</td>\n",
       "    </tr>\n",
       "  </tbody>\n",
       "</table>\n",
       "</div>"
      ],
      "text/plain": [
       "   id     molecule_name  atom_index_0  atom_index_1  type  \\\n",
       "0   0  dsgdb9nsd_000001             1             0  1JHC   \n",
       "1   1  dsgdb9nsd_000001             1             2  2JHH   \n",
       "2   2  dsgdb9nsd_000001             1             3  2JHH   \n",
       "3   3  dsgdb9nsd_000001             1             4  2JHH   \n",
       "4   4  dsgdb9nsd_000001             2             0  1JHC   \n",
       "\n",
       "   scalar_coupling_constant  \n",
       "0                   84.8076  \n",
       "1                  -11.2570  \n",
       "2                  -11.2548  \n",
       "3                  -11.2543  \n",
       "4                   84.8074  "
      ]
     },
     "execution_count": 55,
     "metadata": {},
     "output_type": "execute_result"
    }
   ],
   "source": [
    "train_df.head()"
   ]
  },
  {
   "cell_type": "code",
   "execution_count": 56,
   "metadata": {},
   "outputs": [
    {
     "data": {
      "text/html": [
       "<div>\n",
       "<style scoped>\n",
       "    .dataframe tbody tr th:only-of-type {\n",
       "        vertical-align: middle;\n",
       "    }\n",
       "\n",
       "    .dataframe tbody tr th {\n",
       "        vertical-align: top;\n",
       "    }\n",
       "\n",
       "    .dataframe thead th {\n",
       "        text-align: right;\n",
       "    }\n",
       "</style>\n",
       "<table border=\"1\" class=\"dataframe\">\n",
       "  <thead>\n",
       "    <tr style=\"text-align: right;\">\n",
       "      <th></th>\n",
       "      <th>id</th>\n",
       "      <th>molecule_name</th>\n",
       "      <th>atom_index_0</th>\n",
       "      <th>atom_index_1</th>\n",
       "      <th>type</th>\n",
       "    </tr>\n",
       "  </thead>\n",
       "  <tbody>\n",
       "    <tr>\n",
       "      <th>0</th>\n",
       "      <td>4659076</td>\n",
       "      <td>dsgdb9nsd_000004</td>\n",
       "      <td>2</td>\n",
       "      <td>0</td>\n",
       "      <td>2JHC</td>\n",
       "    </tr>\n",
       "    <tr>\n",
       "      <th>1</th>\n",
       "      <td>4659077</td>\n",
       "      <td>dsgdb9nsd_000004</td>\n",
       "      <td>2</td>\n",
       "      <td>1</td>\n",
       "      <td>1JHC</td>\n",
       "    </tr>\n",
       "    <tr>\n",
       "      <th>2</th>\n",
       "      <td>4659078</td>\n",
       "      <td>dsgdb9nsd_000004</td>\n",
       "      <td>2</td>\n",
       "      <td>3</td>\n",
       "      <td>3JHH</td>\n",
       "    </tr>\n",
       "    <tr>\n",
       "      <th>3</th>\n",
       "      <td>4659079</td>\n",
       "      <td>dsgdb9nsd_000004</td>\n",
       "      <td>3</td>\n",
       "      <td>0</td>\n",
       "      <td>1JHC</td>\n",
       "    </tr>\n",
       "    <tr>\n",
       "      <th>4</th>\n",
       "      <td>4659080</td>\n",
       "      <td>dsgdb9nsd_000004</td>\n",
       "      <td>3</td>\n",
       "      <td>1</td>\n",
       "      <td>2JHC</td>\n",
       "    </tr>\n",
       "  </tbody>\n",
       "</table>\n",
       "</div>"
      ],
      "text/plain": [
       "        id     molecule_name  atom_index_0  atom_index_1  type\n",
       "0  4659076  dsgdb9nsd_000004             2             0  2JHC\n",
       "1  4659077  dsgdb9nsd_000004             2             1  1JHC\n",
       "2  4659078  dsgdb9nsd_000004             2             3  3JHH\n",
       "3  4659079  dsgdb9nsd_000004             3             0  1JHC\n",
       "4  4659080  dsgdb9nsd_000004             3             1  2JHC"
      ]
     },
     "execution_count": 56,
     "metadata": {},
     "output_type": "execute_result"
    }
   ],
   "source": [
    "test_df.head()"
   ]
  },
  {
   "cell_type": "markdown",
   "metadata": {},
   "source": [
    "train_df and test_df contains minimal information. \n",
    "**structures_df** contains more detailed information, the type & position of each atoms in the molecules."
   ]
  },
  {
   "cell_type": "code",
   "execution_count": 57,
   "metadata": {},
   "outputs": [
    {
     "data": {
      "text/html": [
       "<div>\n",
       "<style scoped>\n",
       "    .dataframe tbody tr th:only-of-type {\n",
       "        vertical-align: middle;\n",
       "    }\n",
       "\n",
       "    .dataframe tbody tr th {\n",
       "        vertical-align: top;\n",
       "    }\n",
       "\n",
       "    .dataframe thead th {\n",
       "        text-align: right;\n",
       "    }\n",
       "</style>\n",
       "<table border=\"1\" class=\"dataframe\">\n",
       "  <thead>\n",
       "    <tr style=\"text-align: right;\">\n",
       "      <th></th>\n",
       "      <th>molecule_name</th>\n",
       "      <th>atom_index</th>\n",
       "      <th>atom</th>\n",
       "      <th>x</th>\n",
       "      <th>y</th>\n",
       "      <th>z</th>\n",
       "    </tr>\n",
       "  </thead>\n",
       "  <tbody>\n",
       "    <tr>\n",
       "      <th>0</th>\n",
       "      <td>dsgdb9nsd_000001</td>\n",
       "      <td>0</td>\n",
       "      <td>C</td>\n",
       "      <td>-0.012698</td>\n",
       "      <td>1.085804</td>\n",
       "      <td>0.008001</td>\n",
       "    </tr>\n",
       "    <tr>\n",
       "      <th>1</th>\n",
       "      <td>dsgdb9nsd_000001</td>\n",
       "      <td>1</td>\n",
       "      <td>H</td>\n",
       "      <td>0.002150</td>\n",
       "      <td>-0.006031</td>\n",
       "      <td>0.001976</td>\n",
       "    </tr>\n",
       "    <tr>\n",
       "      <th>2</th>\n",
       "      <td>dsgdb9nsd_000001</td>\n",
       "      <td>2</td>\n",
       "      <td>H</td>\n",
       "      <td>1.011731</td>\n",
       "      <td>1.463751</td>\n",
       "      <td>0.000277</td>\n",
       "    </tr>\n",
       "    <tr>\n",
       "      <th>3</th>\n",
       "      <td>dsgdb9nsd_000001</td>\n",
       "      <td>3</td>\n",
       "      <td>H</td>\n",
       "      <td>-0.540815</td>\n",
       "      <td>1.447527</td>\n",
       "      <td>-0.876644</td>\n",
       "    </tr>\n",
       "    <tr>\n",
       "      <th>4</th>\n",
       "      <td>dsgdb9nsd_000001</td>\n",
       "      <td>4</td>\n",
       "      <td>H</td>\n",
       "      <td>-0.523814</td>\n",
       "      <td>1.437933</td>\n",
       "      <td>0.906397</td>\n",
       "    </tr>\n",
       "  </tbody>\n",
       "</table>\n",
       "</div>"
      ],
      "text/plain": [
       "      molecule_name  atom_index atom         x         y         z\n",
       "0  dsgdb9nsd_000001           0    C -0.012698  1.085804  0.008001\n",
       "1  dsgdb9nsd_000001           1    H  0.002150 -0.006031  0.001976\n",
       "2  dsgdb9nsd_000001           2    H  1.011731  1.463751  0.000277\n",
       "3  dsgdb9nsd_000001           3    H -0.540815  1.447527 -0.876644\n",
       "4  dsgdb9nsd_000001           4    H -0.523814  1.437933  0.906397"
      ]
     },
     "execution_count": 57,
     "metadata": {},
     "output_type": "execute_result"
    }
   ],
   "source": [
    "structures_df.head()"
   ]
  },
  {
   "cell_type": "markdown",
   "metadata": {},
   "source": [
    "sample_submission_df is the format to submit. When you predict values from test_df, we can assign predicted values in this format. The `id` column corresponds to the `test_df`."
   ]
  },
  {
   "cell_type": "code",
   "execution_count": 58,
   "metadata": {},
   "outputs": [
    {
     "data": {
      "text/html": [
       "<div>\n",
       "<style scoped>\n",
       "    .dataframe tbody tr th:only-of-type {\n",
       "        vertical-align: middle;\n",
       "    }\n",
       "\n",
       "    .dataframe tbody tr th {\n",
       "        vertical-align: top;\n",
       "    }\n",
       "\n",
       "    .dataframe thead th {\n",
       "        text-align: right;\n",
       "    }\n",
       "</style>\n",
       "<table border=\"1\" class=\"dataframe\">\n",
       "  <thead>\n",
       "    <tr style=\"text-align: right;\">\n",
       "      <th></th>\n",
       "      <th>id</th>\n",
       "      <th>scalar_coupling_constant</th>\n",
       "    </tr>\n",
       "  </thead>\n",
       "  <tbody>\n",
       "    <tr>\n",
       "      <th>0</th>\n",
       "      <td>4659076</td>\n",
       "      <td>0</td>\n",
       "    </tr>\n",
       "    <tr>\n",
       "      <th>1</th>\n",
       "      <td>4659077</td>\n",
       "      <td>0</td>\n",
       "    </tr>\n",
       "    <tr>\n",
       "      <th>2</th>\n",
       "      <td>4659078</td>\n",
       "      <td>0</td>\n",
       "    </tr>\n",
       "    <tr>\n",
       "      <th>3</th>\n",
       "      <td>4659079</td>\n",
       "      <td>0</td>\n",
       "    </tr>\n",
       "    <tr>\n",
       "      <th>4</th>\n",
       "      <td>4659080</td>\n",
       "      <td>0</td>\n",
       "    </tr>\n",
       "  </tbody>\n",
       "</table>\n",
       "</div>"
      ],
      "text/plain": [
       "        id  scalar_coupling_constant\n",
       "0  4659076                         0\n",
       "1  4659077                         0\n",
       "2  4659078                         0\n",
       "3  4659079                         0\n",
       "4  4659080                         0"
      ]
     },
     "execution_count": 58,
     "metadata": {},
     "output_type": "execute_result"
    }
   ],
   "source": [
    "sample_submission_df.head()"
   ]
  },
  {
   "cell_type": "markdown",
   "metadata": {},
   "source": [
    "These 4 DataFrames are the main information.\n",
    "\n",
    "Following DataFrames are for additional information, if you can come up with the nice usage to combine these properties you can use it. However these information is **provided only on train data**.\n",
    "So directly using these values to predict our target, `scalar_coupling_constant`, for test data is not possible."
   ]
  },
  {
   "cell_type": "markdown",
   "metadata": {},
   "source": [
    "dipole_moments.csv stores the molecular electric dipole moments for **each molecule**.\n",
    "\n",
    "Dipole moment is a vector value, storing (x, y, z) information."
   ]
  },
  {
   "cell_type": "code",
   "execution_count": 59,
   "metadata": {},
   "outputs": [
    {
     "data": {
      "text/html": [
       "<div>\n",
       "<style scoped>\n",
       "    .dataframe tbody tr th:only-of-type {\n",
       "        vertical-align: middle;\n",
       "    }\n",
       "\n",
       "    .dataframe tbody tr th {\n",
       "        vertical-align: top;\n",
       "    }\n",
       "\n",
       "    .dataframe thead th {\n",
       "        text-align: right;\n",
       "    }\n",
       "</style>\n",
       "<table border=\"1\" class=\"dataframe\">\n",
       "  <thead>\n",
       "    <tr style=\"text-align: right;\">\n",
       "      <th></th>\n",
       "      <th>molecule_name</th>\n",
       "      <th>X</th>\n",
       "      <th>Y</th>\n",
       "      <th>Z</th>\n",
       "    </tr>\n",
       "  </thead>\n",
       "  <tbody>\n",
       "    <tr>\n",
       "      <th>0</th>\n",
       "      <td>dsgdb9nsd_000001</td>\n",
       "      <td>0.0000</td>\n",
       "      <td>0.0</td>\n",
       "      <td>0.0000</td>\n",
       "    </tr>\n",
       "    <tr>\n",
       "      <th>1</th>\n",
       "      <td>dsgdb9nsd_000002</td>\n",
       "      <td>-0.0002</td>\n",
       "      <td>0.0</td>\n",
       "      <td>1.6256</td>\n",
       "    </tr>\n",
       "    <tr>\n",
       "      <th>2</th>\n",
       "      <td>dsgdb9nsd_000003</td>\n",
       "      <td>0.0000</td>\n",
       "      <td>0.0</td>\n",
       "      <td>-1.8511</td>\n",
       "    </tr>\n",
       "    <tr>\n",
       "      <th>3</th>\n",
       "      <td>dsgdb9nsd_000004</td>\n",
       "      <td>0.0000</td>\n",
       "      <td>0.0</td>\n",
       "      <td>0.0000</td>\n",
       "    </tr>\n",
       "    <tr>\n",
       "      <th>4</th>\n",
       "      <td>dsgdb9nsd_000005</td>\n",
       "      <td>0.0000</td>\n",
       "      <td>0.0</td>\n",
       "      <td>-2.8937</td>\n",
       "    </tr>\n",
       "  </tbody>\n",
       "</table>\n",
       "</div>"
      ],
      "text/plain": [
       "      molecule_name       X    Y       Z\n",
       "0  dsgdb9nsd_000001  0.0000  0.0  0.0000\n",
       "1  dsgdb9nsd_000002 -0.0002  0.0  1.6256\n",
       "2  dsgdb9nsd_000003  0.0000  0.0 -1.8511\n",
       "3  dsgdb9nsd_000004  0.0000  0.0  0.0000\n",
       "4  dsgdb9nsd_000005  0.0000  0.0 -2.8937"
      ]
     },
     "execution_count": 59,
     "metadata": {},
     "output_type": "execute_result"
    }
   ],
   "source": [
    "dipole_moments_df.head()"
   ]
  },
  {
   "cell_type": "markdown",
   "metadata": {},
   "source": [
    "potential_energy.csv stores the potential energy for **each molecule**.\n",
    "\n",
    "It is scalar value, only one value is stored."
   ]
  },
  {
   "cell_type": "code",
   "execution_count": 60,
   "metadata": {},
   "outputs": [
    {
     "data": {
      "text/html": [
       "<div>\n",
       "<style scoped>\n",
       "    .dataframe tbody tr th:only-of-type {\n",
       "        vertical-align: middle;\n",
       "    }\n",
       "\n",
       "    .dataframe tbody tr th {\n",
       "        vertical-align: top;\n",
       "    }\n",
       "\n",
       "    .dataframe thead th {\n",
       "        text-align: right;\n",
       "    }\n",
       "</style>\n",
       "<table border=\"1\" class=\"dataframe\">\n",
       "  <thead>\n",
       "    <tr style=\"text-align: right;\">\n",
       "      <th></th>\n",
       "      <th>molecule_name</th>\n",
       "      <th>potential_energy</th>\n",
       "    </tr>\n",
       "  </thead>\n",
       "  <tbody>\n",
       "    <tr>\n",
       "      <th>0</th>\n",
       "      <td>dsgdb9nsd_000001</td>\n",
       "      <td>-40.523680</td>\n",
       "    </tr>\n",
       "    <tr>\n",
       "      <th>1</th>\n",
       "      <td>dsgdb9nsd_000002</td>\n",
       "      <td>-56.560246</td>\n",
       "    </tr>\n",
       "    <tr>\n",
       "      <th>2</th>\n",
       "      <td>dsgdb9nsd_000003</td>\n",
       "      <td>-76.426077</td>\n",
       "    </tr>\n",
       "    <tr>\n",
       "      <th>3</th>\n",
       "      <td>dsgdb9nsd_000004</td>\n",
       "      <td>-77.335268</td>\n",
       "    </tr>\n",
       "    <tr>\n",
       "      <th>4</th>\n",
       "      <td>dsgdb9nsd_000005</td>\n",
       "      <td>-93.428488</td>\n",
       "    </tr>\n",
       "  </tbody>\n",
       "</table>\n",
       "</div>"
      ],
      "text/plain": [
       "      molecule_name  potential_energy\n",
       "0  dsgdb9nsd_000001        -40.523680\n",
       "1  dsgdb9nsd_000002        -56.560246\n",
       "2  dsgdb9nsd_000003        -76.426077\n",
       "3  dsgdb9nsd_000004        -77.335268\n",
       "4  dsgdb9nsd_000005        -93.428488"
      ]
     },
     "execution_count": 60,
     "metadata": {},
     "output_type": "execute_result"
    }
   ],
   "source": [
    "potential_energy_df.head()"
   ]
  },
  {
   "cell_type": "code",
   "execution_count": 61,
   "metadata": {},
   "outputs": [
    {
     "data": {
      "text/plain": [
       "<AxesSubplot:>"
      ]
     },
     "execution_count": 61,
     "metadata": {},
     "output_type": "execute_result"
    },
    {
     "data": {
      "image/png": "[encoded data removed]",
      "text/plain": [
       "<Figure size 432x288 with 1 Axes>"
      ]
     },
     "metadata": {
      "needs_background": "light"
     },
     "output_type": "display_data"
    }
   ],
   "source": [
    "potential_energy_df['potential_energy'].hist()"
   ]
  },
  {
   "cell_type": "markdown",
   "metadata": {},
   "source": [
    "magnetic_shielding_tensors.csv stores the magnetic shielding tensors **for all atoms in the molecules each molecule**.\n",
    "\n",
    "It is tensor value, (XX, YX, ZX, XY, YY, ZY, XZ, YZ, ZZ) information is stored for each atom specified by `atom_index`."
   ]
  },
  {
   "cell_type": "code",
   "execution_count": 62,
   "metadata": {},
   "outputs": [
    {
     "data": {
      "text/html": [
       "<div>\n",
       "<style scoped>\n",
       "    .dataframe tbody tr th:only-of-type {\n",
       "        vertical-align: middle;\n",
       "    }\n",
       "\n",
       "    .dataframe tbody tr th {\n",
       "        vertical-align: top;\n",
       "    }\n",
       "\n",
       "    .dataframe thead th {\n",
       "        text-align: right;\n",
       "    }\n",
       "</style>\n",
       "<table border=\"1\" class=\"dataframe\">\n",
       "  <thead>\n",
       "    <tr style=\"text-align: right;\">\n",
       "      <th></th>\n",
       "      <th>molecule_name</th>\n",
       "      <th>atom_index</th>\n",
       "      <th>XX</th>\n",
       "      <th>YX</th>\n",
       "      <th>ZX</th>\n",
       "      <th>XY</th>\n",
       "      <th>YY</th>\n",
       "      <th>ZY</th>\n",
       "      <th>XZ</th>\n",
       "      <th>YZ</th>\n",
       "      <th>ZZ</th>\n",
       "    </tr>\n",
       "  </thead>\n",
       "  <tbody>\n",
       "    <tr>\n",
       "      <th>0</th>\n",
       "      <td>dsgdb9nsd_000001</td>\n",
       "      <td>0</td>\n",
       "      <td>195.3147</td>\n",
       "      <td>0.0000</td>\n",
       "      <td>-0.0001</td>\n",
       "      <td>0.0000</td>\n",
       "      <td>195.3171</td>\n",
       "      <td>0.0007</td>\n",
       "      <td>-0.0001</td>\n",
       "      <td>0.0007</td>\n",
       "      <td>195.3169</td>\n",
       "    </tr>\n",
       "    <tr>\n",
       "      <th>1</th>\n",
       "      <td>dsgdb9nsd_000001</td>\n",
       "      <td>1</td>\n",
       "      <td>31.3410</td>\n",
       "      <td>-1.2317</td>\n",
       "      <td>4.0544</td>\n",
       "      <td>-1.2317</td>\n",
       "      <td>28.9546</td>\n",
       "      <td>-1.7173</td>\n",
       "      <td>4.0546</td>\n",
       "      <td>-1.7173</td>\n",
       "      <td>34.0861</td>\n",
       "    </tr>\n",
       "    <tr>\n",
       "      <th>2</th>\n",
       "      <td>dsgdb9nsd_000001</td>\n",
       "      <td>2</td>\n",
       "      <td>31.5814</td>\n",
       "      <td>1.2173</td>\n",
       "      <td>-4.1474</td>\n",
       "      <td>1.2173</td>\n",
       "      <td>28.9036</td>\n",
       "      <td>-1.6036</td>\n",
       "      <td>-4.1476</td>\n",
       "      <td>-1.6036</td>\n",
       "      <td>33.8967</td>\n",
       "    </tr>\n",
       "    <tr>\n",
       "      <th>3</th>\n",
       "      <td>dsgdb9nsd_000001</td>\n",
       "      <td>3</td>\n",
       "      <td>31.5172</td>\n",
       "      <td>4.1086</td>\n",
       "      <td>1.2723</td>\n",
       "      <td>4.1088</td>\n",
       "      <td>33.9068</td>\n",
       "      <td>1.6950</td>\n",
       "      <td>1.2724</td>\n",
       "      <td>1.6951</td>\n",
       "      <td>28.9579</td>\n",
       "    </tr>\n",
       "    <tr>\n",
       "      <th>4</th>\n",
       "      <td>dsgdb9nsd_000001</td>\n",
       "      <td>4</td>\n",
       "      <td>31.4029</td>\n",
       "      <td>-4.0942</td>\n",
       "      <td>-1.1793</td>\n",
       "      <td>-4.0944</td>\n",
       "      <td>34.0776</td>\n",
       "      <td>1.6259</td>\n",
       "      <td>-1.1795</td>\n",
       "      <td>1.6260</td>\n",
       "      <td>28.9013</td>\n",
       "    </tr>\n",
       "  </tbody>\n",
       "</table>\n",
       "</div>"
      ],
      "text/plain": [
       "      molecule_name  atom_index        XX      YX      ZX      XY        YY  \\\n",
       "0  dsgdb9nsd_000001           0  195.3147  0.0000 -0.0001  0.0000  195.3171   \n",
       "1  dsgdb9nsd_000001           1   31.3410 -1.2317  4.0544 -1.2317   28.9546   \n",
       "2  dsgdb9nsd_000001           2   31.5814  1.2173 -4.1474  1.2173   28.9036   \n",
       "3  dsgdb9nsd_000001           3   31.5172  4.1086  1.2723  4.1088   33.9068   \n",
       "4  dsgdb9nsd_000001           4   31.4029 -4.0942 -1.1793 -4.0944   34.0776   \n",
       "\n",
       "       ZY      XZ      YZ        ZZ  \n",
       "0  0.0007 -0.0001  0.0007  195.3169  \n",
       "1 -1.7173  4.0546 -1.7173   34.0861  \n",
       "2 -1.6036 -4.1476 -1.6036   33.8967  \n",
       "3  1.6950  1.2724  1.6951   28.9579  \n",
       "4  1.6259 -1.1795  1.6260   28.9013  "
      ]
     },
     "execution_count": 62,
     "metadata": {},
     "output_type": "execute_result"
    }
   ],
   "source": [
    "magnetic_shielding_tensors_df.head()"
   ]
  },
  {
   "cell_type": "markdown",
   "metadata": {},
   "source": [
    "mulliken_charges.csv stores the mulliken charges for **all atoms in the molecules**.\n",
    "\n",
    "It is scalar value, one value is stored for each atom specified by `atom_index`.\n"
   ]
  },
  {
   "cell_type": "code",
   "execution_count": 63,
   "metadata": {},
   "outputs": [
    {
     "data": {
      "text/html": [
       "<div>\n",
       "<style scoped>\n",
       "    .dataframe tbody tr th:only-of-type {\n",
       "        vertical-align: middle;\n",
       "    }\n",
       "\n",
       "    .dataframe tbody tr th {\n",
       "        vertical-align: top;\n",
       "    }\n",
       "\n",
       "    .dataframe thead th {\n",
       "        text-align: right;\n",
       "    }\n",
       "</style>\n",
       "<table border=\"1\" class=\"dataframe\">\n",
       "  <thead>\n",
       "    <tr style=\"text-align: right;\">\n",
       "      <th></th>\n",
       "      <th>molecule_name</th>\n",
       "      <th>atom_index</th>\n",
       "      <th>mulliken_charge</th>\n",
       "    </tr>\n",
       "  </thead>\n",
       "  <tbody>\n",
       "    <tr>\n",
       "      <th>0</th>\n",
       "      <td>dsgdb9nsd_000001</td>\n",
       "      <td>0</td>\n",
       "      <td>-0.535689</td>\n",
       "    </tr>\n",
       "    <tr>\n",
       "      <th>1</th>\n",
       "      <td>dsgdb9nsd_000001</td>\n",
       "      <td>1</td>\n",
       "      <td>0.133921</td>\n",
       "    </tr>\n",
       "    <tr>\n",
       "      <th>2</th>\n",
       "      <td>dsgdb9nsd_000001</td>\n",
       "      <td>2</td>\n",
       "      <td>0.133922</td>\n",
       "    </tr>\n",
       "    <tr>\n",
       "      <th>3</th>\n",
       "      <td>dsgdb9nsd_000001</td>\n",
       "      <td>3</td>\n",
       "      <td>0.133923</td>\n",
       "    </tr>\n",
       "    <tr>\n",
       "      <th>4</th>\n",
       "      <td>dsgdb9nsd_000001</td>\n",
       "      <td>4</td>\n",
       "      <td>0.133923</td>\n",
       "    </tr>\n",
       "  </tbody>\n",
       "</table>\n",
       "</div>"
      ],
      "text/plain": [
       "      molecule_name  atom_index  mulliken_charge\n",
       "0  dsgdb9nsd_000001           0        -0.535689\n",
       "1  dsgdb9nsd_000001           1         0.133921\n",
       "2  dsgdb9nsd_000001           2         0.133922\n",
       "3  dsgdb9nsd_000001           3         0.133923\n",
       "4  dsgdb9nsd_000001           4         0.133923"
      ]
     },
     "execution_count": 63,
     "metadata": {},
     "output_type": "execute_result"
    }
   ],
   "source": [
    "mulliken_charges_df.head()"
   ]
  },
  {
   "cell_type": "code",
   "execution_count": 64,
   "metadata": {},
   "outputs": [
    {
     "data": {
      "text/plain": [
       "<AxesSubplot:>"
      ]
     },
     "execution_count": 64,
     "metadata": {},
     "output_type": "execute_result"
    },
    {
     "data": {
      "image/png": "[encoded data removed]",
      "text/plain": [
       "<Figure size 432x288 with 1 Axes>"
      ]
     },
     "metadata": {
      "needs_background": "light"
     },
     "output_type": "display_data"
    }
   ],
   "source": [
    "mulliken_charges_df['mulliken_charge'].hist()"
   ]
  },
  {
   "cell_type": "markdown",
   "metadata": {},
   "source": [
    "scalar_coupling_contributions.csv: \n",
    "> The scalar coupling constants in train.csv (or corresponding files) are a sum of four terms. scalar_coupling_contributions.csv contain all these terms.\n",
    "> the fifth column (fc) is the Fermi Contact contribution, the sixth column (sd) is the Spin-dipolar contribution, the seventh column (pso) is the Paramagnetic spin-orbit contribution and the eighth column (dso) is the Diamagnetic spin-orbit contribution.\n",
    "\n",
    "As we can see, the first 3 column is the same format with train data, and there are 4 float values `fc`, `sd`, `pso`, and `dso`.\n",
    "These sum is the actual `scalar_coupling_constant` to predict in this competition."
   ]
  },
  {
   "cell_type": "code",
   "execution_count": 65,
   "metadata": {},
   "outputs": [
    {
     "data": {
      "text/html": [
       "<div>\n",
       "<style scoped>\n",
       "    .dataframe tbody tr th:only-of-type {\n",
       "        vertical-align: middle;\n",
       "    }\n",
       "\n",
       "    .dataframe tbody tr th {\n",
       "        vertical-align: top;\n",
       "    }\n",
       "\n",
       "    .dataframe thead th {\n",
       "        text-align: right;\n",
       "    }\n",
       "</style>\n",
       "<table border=\"1\" class=\"dataframe\">\n",
       "  <thead>\n",
       "    <tr style=\"text-align: right;\">\n",
       "      <th></th>\n",
       "      <th>molecule_name</th>\n",
       "      <th>atom_index_0</th>\n",
       "      <th>atom_index_1</th>\n",
       "      <th>type</th>\n",
       "      <th>fc</th>\n",
       "      <th>sd</th>\n",
       "      <th>pso</th>\n",
       "      <th>dso</th>\n",
       "    </tr>\n",
       "  </thead>\n",
       "  <tbody>\n",
       "    <tr>\n",
       "      <th>0</th>\n",
       "      <td>dsgdb9nsd_000001</td>\n",
       "      <td>1</td>\n",
       "      <td>0</td>\n",
       "      <td>1JHC</td>\n",
       "      <td>83.0224</td>\n",
       "      <td>0.254579</td>\n",
       "      <td>1.25862</td>\n",
       "      <td>0.272010</td>\n",
       "    </tr>\n",
       "    <tr>\n",
       "      <th>1</th>\n",
       "      <td>dsgdb9nsd_000001</td>\n",
       "      <td>1</td>\n",
       "      <td>2</td>\n",
       "      <td>2JHH</td>\n",
       "      <td>-11.0347</td>\n",
       "      <td>0.352978</td>\n",
       "      <td>2.85839</td>\n",
       "      <td>-3.433600</td>\n",
       "    </tr>\n",
       "    <tr>\n",
       "      <th>2</th>\n",
       "      <td>dsgdb9nsd_000001</td>\n",
       "      <td>1</td>\n",
       "      <td>3</td>\n",
       "      <td>2JHH</td>\n",
       "      <td>-11.0325</td>\n",
       "      <td>0.352944</td>\n",
       "      <td>2.85852</td>\n",
       "      <td>-3.433870</td>\n",
       "    </tr>\n",
       "    <tr>\n",
       "      <th>3</th>\n",
       "      <td>dsgdb9nsd_000001</td>\n",
       "      <td>1</td>\n",
       "      <td>4</td>\n",
       "      <td>2JHH</td>\n",
       "      <td>-11.0319</td>\n",
       "      <td>0.352934</td>\n",
       "      <td>2.85855</td>\n",
       "      <td>-3.433930</td>\n",
       "    </tr>\n",
       "    <tr>\n",
       "      <th>4</th>\n",
       "      <td>dsgdb9nsd_000001</td>\n",
       "      <td>2</td>\n",
       "      <td>0</td>\n",
       "      <td>1JHC</td>\n",
       "      <td>83.0222</td>\n",
       "      <td>0.254585</td>\n",
       "      <td>1.25861</td>\n",
       "      <td>0.272013</td>\n",
       "    </tr>\n",
       "  </tbody>\n",
       "</table>\n",
       "</div>"
      ],
      "text/plain": [
       "      molecule_name  atom_index_0  atom_index_1  type       fc        sd  \\\n",
       "0  dsgdb9nsd_000001             1             0  1JHC  83.0224  0.254579   \n",
       "1  dsgdb9nsd_000001             1             2  2JHH -11.0347  0.352978   \n",
       "2  dsgdb9nsd_000001             1             3  2JHH -11.0325  0.352944   \n",
       "3  dsgdb9nsd_000001             1             4  2JHH -11.0319  0.352934   \n",
       "4  dsgdb9nsd_000001             2             0  1JHC  83.0222  0.254585   \n",
       "\n",
       "       pso       dso  \n",
       "0  1.25862  0.272010  \n",
       "1  2.85839 -3.433600  \n",
       "2  2.85852 -3.433870  \n",
       "3  2.85855 -3.433930  \n",
       "4  1.25861  0.272013  "
      ]
     },
     "execution_count": 65,
     "metadata": {},
     "output_type": "execute_result"
    }
   ],
   "source": [
    "scalar_coupling_contributions_df.head()"
   ]
  },
  {
   "cell_type": "markdown",
   "metadata": {},
   "source": [
    "So `scalar_coupling_constant` which we need to predict is defined on **atom pair** basis, but many information comes as **each atom** or **molecule** basis.\n",
    "\n",
    "How to combine these information is the challenge in this competition."
   ]
  },
  {
   "cell_type": "code",
   "execution_count": 66,
   "metadata": {},
   "outputs": [
    {
     "name": "stdout",
     "output_type": "stream",
     "text": [
      "--- Atom pair wise info ---\n",
      "train_df (4659076, 6)\n",
      "test_df (2505190, 5)\n",
      "scalar_coupling_contributions_df (4659076, 8)\n",
      "sample_submission_df (2505190, 2)\n",
      "--- Molecule wise info ---\n",
      "potential_energy_df (130789, 2)\n",
      "dipole_moments_df (130789, 4)\n",
      "--- Atom wise info ---\n",
      "structures_df (2358875, 6)\n",
      "magnetic_shielding_tensors_df (2358875, 11)\n",
      "mulliken_charges_df (2358875, 3)\n"
     ]
    }
   ],
   "source": [
    "# Atom pair wise info\n",
    "print('--- Atom pair wise info ---')\n",
    "print(f'train_df {train_df.shape}')\n",
    "print(f'test_df {test_df.shape}')\n",
    "print(f'scalar_coupling_contributions_df {scalar_coupling_contributions_df.shape}')  # only contain train info\n",
    "print(f'sample_submission_df {sample_submission_df.shape}')  # for test prediction\n",
    "\n",
    "# Molecule wise info\n",
    "print('--- Molecule wise info ---')\n",
    "print(f'potential_energy_df {potential_energy_df.shape}')  # only contain train info\n",
    "print(f'dipole_moments_df {dipole_moments_df.shape}')  # only contain train info\n",
    "\n",
    "# Atom wise info\n",
    "print('--- Atom wise info ---')\n",
    "print(f'structures_df {structures_df.shape}')  # contains both train/test info\n",
    "print(f'magnetic_shielding_tensors_df {magnetic_shielding_tensors_df.shape}')  # only contain train info\n",
    "print(f'mulliken_charges_df {mulliken_charges_df.shape}')  # only contain train info"
   ]
  },
  {
   "cell_type": "markdown",
   "metadata": {},
   "source": [
    "Number of information is molecule wise < atom wise < atom pair wise\n",
    "\n",
    "I don't use \"additional information\" in the following. Let's delete for memory efficiency."
   ]
  },
  {
   "cell_type": "code",
   "execution_count": 67,
   "metadata": {},
   "outputs": [
    {
     "data": {
      "text/plain": [
       "84"
      ]
     },
     "execution_count": 67,
     "metadata": {},
     "output_type": "execute_result"
    }
   ],
   "source": [
    "del dipole_moments_df\n",
    "del magnetic_shielding_tensors_df\n",
    "del mulliken_charges_df\n",
    "del potential_energy_df\n",
    "del scalar_coupling_contributions_df\n",
    "\n",
    "gc.collect()"
   ]
  },
  {
   "cell_type": "markdown",
   "metadata": {},
   "source": [
    "## Number of atoms"
   ]
  },
  {
   "cell_type": "code",
   "execution_count": 68,
   "metadata": {},
   "outputs": [
    {
     "name": "stdout",
     "output_type": "stream",
     "text": [
      "Number of molecules: train 85012, test 45777, train+test 130789\n",
      "Number of total atoms: train+test 2358875\n"
     ]
    }
   ],
   "source": [
    "# How many molecules or atoms are there in the dataset?\n",
    "train_mol_names = train_df['molecule_name'].unique()\n",
    "test_mol_names = test_df['molecule_name'].unique()\n",
    "\n",
    "print(f'Number of molecules: train {len(train_mol_names)}, test {len(test_mol_names)}, train+test {len(train_mol_names) + len(test_mol_names)}')\n",
    "print(f'Number of total atoms: train+test {len(structures_df)}')"
   ]
  },
  {
   "cell_type": "markdown",
   "metadata": {},
   "source": [
    "So train/test dataset ratio is around 2:1."
   ]
  },
  {
   "cell_type": "code",
   "execution_count": 69,
   "metadata": {},
   "outputs": [
    {
     "name": "stdout",
     "output_type": "stream",
     "text": [
      "name of molecues in train ['dsgdb9nsd_000001' 'dsgdb9nsd_000002' 'dsgdb9nsd_000003' ...\n",
      " 'dsgdb9nsd_133882' 'dsgdb9nsd_133883' 'dsgdb9nsd_133884']\n",
      "name of molecues in test ['dsgdb9nsd_000004' 'dsgdb9nsd_000014' 'dsgdb9nsd_000015' ...\n",
      " 'dsgdb9nsd_133871' 'dsgdb9nsd_133872' 'dsgdb9nsd_133885']\n"
     ]
    }
   ],
   "source": [
    "print('name of molecues in train', train_mol_names)\n",
    "print('name of molecues in test', test_mol_names)"
   ]
  },
  {
   "cell_type": "markdown",
   "metadata": {},
   "source": [
    "Molecule name is assigned as increasing order from 000000 until 0133885, and randomly splitted into train and test."
   ]
  },
  {
   "cell_type": "markdown",
   "metadata": {},
   "source": [
    "**Atom type**: What kind of atom type are there in the train/test data?\n",
    "\n",
    "We have only 5 atoms, H, C, N, O and F!"
   ]
  },
  {
   "cell_type": "code",
   "execution_count": 70,
   "metadata": {},
   "outputs": [
    {
     "data": {
      "text/plain": [
       "array(['C', 'H', 'N', 'O', 'F'], dtype=object)"
      ]
     },
     "execution_count": 70,
     "metadata": {},
     "output_type": "execute_result"
    }
   ],
   "source": [
    "structures_df['atom'].unique()"
   ]
  },
  {
   "cell_type": "markdown",
   "metadata": {},
   "source": [
    "How many number of atoms are there in each molecule?"
   ]
  },
  {
   "cell_type": "code",
   "execution_count": 71,
   "metadata": {},
   "outputs": [
    {
     "data": {
      "text/plain": [
       "dsgdb9nsd_118220    29\n",
       "dsgdb9nsd_100100    29\n",
       "dsgdb9nsd_101816    29\n",
       "dsgdb9nsd_123246    29\n",
       "dsgdb9nsd_099964    29\n",
       "Name: molecule_name, dtype: int64"
      ]
     },
     "execution_count": 71,
     "metadata": {},
     "output_type": "execute_result"
    }
   ],
   "source": [
    "mol_name_counts = structures_df['molecule_name'].value_counts()\n",
    "mol_name_counts.head()"
   ]
  },
  {
   "cell_type": "code",
   "execution_count": 72,
   "metadata": {},
   "outputs": [
    {
     "data": {
      "text/plain": [
       "<AxesSubplot:>"
      ]
     },
     "execution_count": 72,
     "metadata": {},
     "output_type": "execute_result"
    },
    {
     "data": {
      "image/png": "[encoded data removed]",
      "text/plain": [
       "<Figure size 432x288 with 1 Axes>"
      ]
     },
     "metadata": {
      "needs_background": "light"
     },
     "output_type": "display_data"
    }
   ],
   "source": [
    "mol_name_counts.hist()"
   ]
  },
  {
   "cell_type": "markdown",
   "metadata": {},
   "source": [
    "Number of atom in each molecule ranges **3~29**."
   ]
  },
  {
   "cell_type": "markdown",
   "metadata": {},
   "source": [
    "Many atoms are actually hydrogen H, how many \"heavy atom\" (C, N, O and F) are there?"
   ]
  },
  {
   "cell_type": "code",
   "execution_count": 73,
   "metadata": {},
   "outputs": [],
   "source": [
    "heavy_atoms_in_mol = structures_df[structures_df['atom'] != 'H']['molecule_name'].value_counts()"
   ]
  },
  {
   "cell_type": "code",
   "execution_count": 74,
   "metadata": {},
   "outputs": [
    {
     "data": {
      "text/plain": [
       "<AxesSubplot:>"
      ]
     },
     "execution_count": 74,
     "metadata": {},
     "output_type": "execute_result"
    },
    {
     "data": {
      "image/png": "[encoded data removed]",
      "text/plain": [
       "<Figure size 432x288 with 1 Axes>"
      ]
     },
     "metadata": {
      "needs_background": "light"
     },
     "output_type": "display_data"
    }
   ],
   "source": [
    "heavy_atoms_in_mol.hist()"
   ]
  },
  {
   "cell_type": "markdown",
   "metadata": {},
   "source": [
    "Number of heavy atom in each molecule ranges **1~9**. And its histogram is very skewed, as the number of heavy atom increases, number of data increases."
   ]
  },
  {
   "cell_type": "code",
   "execution_count": 75,
   "metadata": {},
   "outputs": [
    {
     "data": {
      "text/plain": [
       "9    109012\n",
       "8     17865\n",
       "7      3136\n",
       "6       604\n",
       "5       125\n",
       "4        30\n",
       "3         9\n",
       "2         5\n",
       "1         3\n",
       "Name: molecule_name, dtype: int64"
      ]
     },
     "execution_count": 75,
     "metadata": {},
     "output_type": "execute_result"
    }
   ],
   "source": [
    "# Histogram of heavy atoms\n",
    "heavy_atoms_in_mol.value_counts()"
   ]
  },
  {
   "cell_type": "markdown",
   "metadata": {},
   "source": [
    "It seems competition data actually comes from **QM9 dataset**!\n",
    "\n",
    "You can refer QM9 dataset's explanation here.\n",
    "\n",
    "- http://quantum-machine.org/datasets/\n",
    "\n",
    "> Computational de novo design of new drugs and materials requires rigorous and unbiased exploration of chemical compound space. However, large uncharted territories persist due to its size scaling combinatorially with molecular size. We report computed geometric, energetic, electronic, and thermodynamic properties for 134k stable small organic molecules made up of CHONF. These molecules correspond to the subset of all 133,885 species with up to nine heavy atoms (CONF) out of the GDB-17 chemical universe of 166 billion organic molecules.\n",
    "\n",
    "Also, you can download original QM9 dataset from below\n",
    "\n",
    " - https://figshare.com/collections/Quantum_chemistry_structures_and_properties_of_134_kilo_molecules/978904"
   ]
  },
  {
   "cell_type": "markdown",
   "metadata": {},
   "source": [
    "So this competition uses QM9 dataset as base molecule list, and calculated `scalar_coupling_constant` which itself is not calculated on original QM9 dataset. QM9 Dataset is actually **enumerated list of organic molecules with up to 9 heavy atoms (CHONF)**. Why the data contains much more 9 heavy atoms than 1 heavy atoms? Because there are much more combination to construct valid molecules when the number of heavy atoms increases!"
   ]
  },
  {
   "cell_type": "markdown",
   "metadata": {},
   "source": [
    "Also, as you can see below, molecule name is defined in alomost increasing order of heavy atoms."
   ]
  },
  {
   "cell_type": "code",
   "execution_count": 76,
   "metadata": {},
   "outputs": [
    {
     "data": {
      "text/plain": [
       "dsgdb9nsd_000001    1\n",
       "dsgdb9nsd_000002    1\n",
       "dsgdb9nsd_000003    1\n",
       "dsgdb9nsd_000004    2\n",
       "dsgdb9nsd_000005    2\n",
       "                   ..\n",
       "dsgdb9nsd_133881    9\n",
       "dsgdb9nsd_133882    9\n",
       "dsgdb9nsd_133883    9\n",
       "dsgdb9nsd_133884    9\n",
       "dsgdb9nsd_133885    9\n",
       "Name: molecule_name, Length: 130789, dtype: int64"
      ]
     },
     "execution_count": 76,
     "metadata": {},
     "output_type": "execute_result"
    }
   ],
   "source": [
    "heavy_atoms_in_mol.sort_index()"
   ]
  },
  {
   "cell_type": "code",
   "execution_count": 77,
   "metadata": {},
   "outputs": [
    {
     "data": {
      "image/png": "[encoded data removed]",
      "text/plain": [
       "<Figure size 432x288 with 1 Axes>"
      ]
     },
     "metadata": {
      "needs_background": "light"
     },
     "output_type": "display_data"
    }
   ],
   "source": [
    "plt.figure()\n",
    "plt.scatter(np.arange(len(heavy_atoms_in_mol)), heavy_atoms_in_mol.sort_index().values)\n",
    "plt.xlabel('molecule_name')\n",
    "plt.ylabel('Number of heavy atoms')\n",
    "plt.show()\n",
    "plt.close()"
   ]
  },
  {
   "cell_type": "markdown",
   "metadata": {},
   "source": [
    "## Molecule visualization"
   ]
  },
  {
   "cell_type": "markdown",
   "metadata": {},
   "source": [
    "1. Visualize molecules with RDKit (refer [Visualize molecules with RDKit](https://www.kaggle.com/corochann/visualize-molecules-with-rdkit) kernel)."
   ]
  },
  {
   "cell_type": "code",
   "execution_count": 78,
   "metadata": {},
   "outputs": [
    {
     "name": "stdout",
     "output_type": "stream",
     "text": [
      "mol_name:  dsgdb9nsd_000001\n"
     ]
    },
    {
     "data": {
      "image/png": "[encoded data removed]",
      "text/plain": [
       "<rdkit.Chem.rdchem.Mol at 0x7feaa87a4f80>"
      ]
     },
     "metadata": {},
     "output_type": "display_data"
    },
    {
     "name": "stdout",
     "output_type": "stream",
     "text": [
      "mol_name:  dsgdb9nsd_001000\n"
     ]
    },
    {
     "data": {
      "image/png": "[encoded data removed]",
      "text/plain": [
       "<rdkit.Chem.rdchem.Mol at 0x7feaa879a0d0>"
      ]
     },
     "metadata": {},
     "output_type": "display_data"
    },
    {
     "name": "stdout",
     "output_type": "stream",
     "text": [
      "mol_name:  dsgdb9nsd_010000\n"
     ]
    },
    {
     "data": {
      "image/png": "[encoded data removed]",
      "text/plain": [
       "<rdkit.Chem.rdchem.Mol at 0x7feaa8714a30>"
      ]
     },
     "metadata": {},
     "output_type": "display_data"
    },
    {
     "name": "stdout",
     "output_type": "stream",
     "text": [
      "mol_name:  dsgdb9nsd_133885\n"
     ]
    },
    {
     "data": {
      "image/png": "[encoded data removed]",
      "text/plain": [
       "<rdkit.Chem.rdchem.Mol at 0x7feaa8774580>"
      ]
     },
     "metadata": {},
     "output_type": "display_data"
    }
   ],
   "source": [
    "for mol_id in ['000001', '001000', '010000', '133885']:\n",
    "    mol_name = f'dsgdb9nsd_{mol_id}'\n",
    "    filepath = input_dir/f'structures/{mol_name}.xyz'\n",
    "    mol = mol_from_xyz(filepath, to_canonical=True)\n",
    "    print('mol_name: ', mol_name)\n",
    "    display(mol)"
   ]
  },
  {
   "cell_type": "markdown",
   "metadata": {},
   "source": [
    "As we can see, molecule becomes large and more complex structure with increasing order of mol_name."
   ]
  },
  {
   "cell_type": "markdown",
   "metadata": {},
   "source": [
    "### Scalar coupling constant"
   ]
  },
  {
   "cell_type": "markdown",
   "metadata": {},
   "source": [
    "Let's focus on `scalar_coupling_constant`, this competition's label to predict.\n",
    "\n",
    "As we can see in `train_df` data, scalar coupling constant is defined on atom pair. \"coupling type\" is defined in each scalar coupling."
   ]
  },
  {
   "cell_type": "code",
   "execution_count": 79,
   "metadata": {},
   "outputs": [
    {
     "name": "stdout",
     "output_type": "stream",
     "text": [
      "coupling_tyes ['1JHC' '2JHH' '1JHN' '2JHN' '2JHC' '3JHH' '3JHC' '3JHN']\n"
     ]
    }
   ],
   "source": [
    "coupling_tyes = train_df['type'].unique()\n",
    "print(\"coupling_tyes\", coupling_tyes)"
   ]
  },
  {
   "cell_type": "markdown",
   "metadata": {},
   "source": [
    "It seems we have 8 types of coupling type.\n",
    "\n",
    "It is the format with number and \"J\" and some molecule types.\n",
    "\n",
    "But what is this number 1, 2 or 3?\n",
    "I refer @geoman3 's answer in [this discussion](https://www.kaggle.com/c/champs-scalar-coupling/discussion/95204#latest-554649).\n",
    "\n",
    "![](https://i.imgur.com/1jGXP8L.png)\n",
    "\n",
    "It seems the number indicates to how many bonds separated between these atom pair.\n",
    "We have number up to 3, meaning that atom pair with too far each other is not in focus of this competition."
   ]
  },
  {
   "cell_type": "markdown",
   "metadata": {},
   "source": [
    "Let's see the histogram of `scalar_coupling_constant`."
   ]
  },
  {
   "cell_type": "code",
   "execution_count": 80,
   "metadata": {},
   "outputs": [
    {
     "name": "stderr",
     "output_type": "stream",
     "text": [
      "/home/jipiration/anaconda3/envs/jipiration/lib/python3.7/site-packages/seaborn/distributions.py:2551: FutureWarning: `distplot` is a deprecated function and will be removed in a future version. Please adapt your code to use either `displot` (a figure-level function with similar flexibility) or `histplot` (an axes-level function for histograms).\n",
      "  warnings.warn(msg, FutureWarning)\n"
     ]
    },
    {
     "data": {
      "image/png": "[encoded data removed]",
      "text/plain": [
       "<Figure size 432x288 with 1 Axes>"
      ]
     },
     "metadata": {
      "needs_background": "light"
     },
     "output_type": "display_data"
    }
   ],
   "source": [
    "plt.figure()\n",
    "sns.distplot(train_df['scalar_coupling_constant'])\n",
    "plt.show()\n",
    "plt.close()"
   ]
  },
  {
   "cell_type": "markdown",
   "metadata": {},
   "source": [
    "How about histogram of `scalar_coupling_constant` for each coupling type?"
   ]
  },
  {
   "cell_type": "code",
   "execution_count": 81,
   "metadata": {},
   "outputs": [
    {
     "name": "stderr",
     "output_type": "stream",
     "text": [
      "/home/jipiration/anaconda3/envs/jipiration/lib/python3.7/site-packages/seaborn/distributions.py:2551: FutureWarning: `distplot` is a deprecated function and will be removed in a future version. Please adapt your code to use either `displot` (a figure-level function with similar flexibility) or `histplot` (an axes-level function for histograms).\n",
      "  warnings.warn(msg, FutureWarning)\n",
      "/home/jipiration/anaconda3/envs/jipiration/lib/python3.7/site-packages/seaborn/distributions.py:2551: FutureWarning: `distplot` is a deprecated function and will be removed in a future version. Please adapt your code to use either `displot` (a figure-level function with similar flexibility) or `histplot` (an axes-level function for histograms).\n",
      "  warnings.warn(msg, FutureWarning)\n",
      "/home/jipiration/anaconda3/envs/jipiration/lib/python3.7/site-packages/seaborn/distributions.py:2551: FutureWarning: `distplot` is a deprecated function and will be removed in a future version. Please adapt your code to use either `displot` (a figure-level function with similar flexibility) or `histplot` (an axes-level function for histograms).\n",
      "  warnings.warn(msg, FutureWarning)\n",
      "/home/jipiration/anaconda3/envs/jipiration/lib/python3.7/site-packages/seaborn/distributions.py:2551: FutureWarning: `distplot` is a deprecated function and will be removed in a future version. Please adapt your code to use either `displot` (a figure-level function with similar flexibility) or `histplot` (an axes-level function for histograms).\n",
      "  warnings.warn(msg, FutureWarning)\n",
      "/home/jipiration/anaconda3/envs/jipiration/lib/python3.7/site-packages/seaborn/distributions.py:2551: FutureWarning: `distplot` is a deprecated function and will be removed in a future version. Please adapt your code to use either `displot` (a figure-level function with similar flexibility) or `histplot` (an axes-level function for histograms).\n",
      "  warnings.warn(msg, FutureWarning)\n",
      "/home/jipiration/anaconda3/envs/jipiration/lib/python3.7/site-packages/seaborn/distributions.py:2551: FutureWarning: `distplot` is a deprecated function and will be removed in a future version. Please adapt your code to use either `displot` (a figure-level function with similar flexibility) or `histplot` (an axes-level function for histograms).\n",
      "  warnings.warn(msg, FutureWarning)\n",
      "/home/jipiration/anaconda3/envs/jipiration/lib/python3.7/site-packages/seaborn/distributions.py:2551: FutureWarning: `distplot` is a deprecated function and will be removed in a future version. Please adapt your code to use either `displot` (a figure-level function with similar flexibility) or `histplot` (an axes-level function for histograms).\n",
      "  warnings.warn(msg, FutureWarning)\n",
      "/home/jipiration/anaconda3/envs/jipiration/lib/python3.7/site-packages/seaborn/distributions.py:2551: FutureWarning: `distplot` is a deprecated function and will be removed in a future version. Please adapt your code to use either `displot` (a figure-level function with similar flexibility) or `histplot` (an axes-level function for histograms).\n",
      "  warnings.warn(msg, FutureWarning)\n"
     ]
    },
    {
     "data": {
      "text/plain": [
       "<seaborn.axisgrid.FacetGrid at 0x7feaa8656250>"
      ]
     },
     "execution_count": 81,
     "metadata": {},
     "output_type": "execute_result"
    },
    {
     "data": {
      "image/png": "[encoded data removed]",
      "text/plain": [
       "<Figure size 864x432 with 8 Axes>"
      ]
     },
     "metadata": {
      "needs_background": "light"
     },
     "output_type": "display_data"
    }
   ],
   "source": [
    "grid = sns.FacetGrid(train_df[['type', 'scalar_coupling_constant']], col='type', hue='type', col_wrap=4)\n",
    "grid.map(sns.distplot, 'scalar_coupling_constant')"
   ]
  },
  {
   "cell_type": "markdown",
   "metadata": {},
   "source": [
    "We can see the value ranges very different in each coupling type. \"1JHC\" coupling type is biggest, around 80. \"1JHN\" is the second biggest around 50. Other coupling types are around 0.\n",
    "\n",
    "It may be better to handle each couping type explicitly (include coupling type feature, use different model etc)."
   ]
  },
  {
   "cell_type": "markdown",
   "metadata": {},
   "source": [
    "# Distance features\n",
    "\n",
    "Most simple feature we can come up with between atom pair is a distance between these 2 atoms. Let's see how distance related to `scalar_coupling_constant`."
   ]
  },
  {
   "cell_type": "code",
   "execution_count": 82,
   "metadata": {},
   "outputs": [],
   "source": [
    "# Calculate distance feature..\n",
    "# --- dist hist ---\n",
    "\n",
    "# from https://www.kaggle.com/seriousran/just-speed-up-calculate-distance-from-benchmark\n",
    "\n",
    "def map_atom_info(df, atom_idx):\n",
    "    df = pd.merge(df, structures_df, how='left',\n",
    "                  left_on=['molecule_name', f'atom_index_{atom_idx}'],\n",
    "                  right_on=['molecule_name', 'atom_index'])\n",
    "    \n",
    "    df = df.drop('atom_index', axis=1)\n",
    "    df = df.rename(columns={'atom': f'atom_{atom_idx}',\n",
    "                            'x': f'x_{atom_idx}',\n",
    "                            'y': f'y_{atom_idx}',\n",
    "                            'z': f'z_{atom_idx}'})\n",
    "    return df\n",
    "\n",
    "train_df = map_atom_info(train_df, 0)\n",
    "train_df = map_atom_info(train_df, 1)\n",
    "\n",
    "test_df = map_atom_info(test_df, 0)\n",
    "test_df = map_atom_info(test_df, 1)\n",
    "\n",
    "train_p_0 = train_df[['x_0', 'y_0', 'z_0']].values\n",
    "train_p_1 = train_df[['x_1', 'y_1', 'z_1']].values\n",
    "test_p_0 = test_df[['x_0', 'y_0', 'z_0']].values\n",
    "test_p_1 = test_df[['x_1', 'y_1', 'z_1']].values\n",
    "\n",
    "train_df['dist_speedup'] = np.linalg.norm(train_p_0 - train_p_1, axis=1)\n",
    "test_df['dist_speedup'] = np.linalg.norm(test_p_0 - test_p_1, axis=1)"
   ]
  },
  {
   "cell_type": "code",
   "execution_count": 83,
   "metadata": {},
   "outputs": [
    {
     "data": {
      "text/html": [
       "<div>\n",
       "<style scoped>\n",
       "    .dataframe tbody tr th:only-of-type {\n",
       "        vertical-align: middle;\n",
       "    }\n",
       "\n",
       "    .dataframe tbody tr th {\n",
       "        vertical-align: top;\n",
       "    }\n",
       "\n",
       "    .dataframe thead th {\n",
       "        text-align: right;\n",
       "    }\n",
       "</style>\n",
       "<table border=\"1\" class=\"dataframe\">\n",
       "  <thead>\n",
       "    <tr style=\"text-align: right;\">\n",
       "      <th></th>\n",
       "      <th>id</th>\n",
       "      <th>molecule_name</th>\n",
       "      <th>atom_index_0</th>\n",
       "      <th>atom_index_1</th>\n",
       "      <th>type</th>\n",
       "      <th>scalar_coupling_constant</th>\n",
       "      <th>atom_0</th>\n",
       "      <th>x_0</th>\n",
       "      <th>y_0</th>\n",
       "      <th>z_0</th>\n",
       "      <th>atom_1</th>\n",
       "      <th>x_1</th>\n",
       "      <th>y_1</th>\n",
       "      <th>z_1</th>\n",
       "      <th>dist_speedup</th>\n",
       "    </tr>\n",
       "  </thead>\n",
       "  <tbody>\n",
       "    <tr>\n",
       "      <th>0</th>\n",
       "      <td>0</td>\n",
       "      <td>dsgdb9nsd_000001</td>\n",
       "      <td>1</td>\n",
       "      <td>0</td>\n",
       "      <td>1JHC</td>\n",
       "      <td>84.8076</td>\n",
       "      <td>H</td>\n",
       "      <td>0.002150</td>\n",
       "      <td>-0.006031</td>\n",
       "      <td>0.001976</td>\n",
       "      <td>C</td>\n",
       "      <td>-0.012698</td>\n",
       "      <td>1.085804</td>\n",
       "      <td>0.008001</td>\n",
       "      <td>1.091953</td>\n",
       "    </tr>\n",
       "    <tr>\n",
       "      <th>1</th>\n",
       "      <td>1</td>\n",
       "      <td>dsgdb9nsd_000001</td>\n",
       "      <td>1</td>\n",
       "      <td>2</td>\n",
       "      <td>2JHH</td>\n",
       "      <td>-11.2570</td>\n",
       "      <td>H</td>\n",
       "      <td>0.002150</td>\n",
       "      <td>-0.006031</td>\n",
       "      <td>0.001976</td>\n",
       "      <td>H</td>\n",
       "      <td>1.011731</td>\n",
       "      <td>1.463751</td>\n",
       "      <td>0.000277</td>\n",
       "      <td>1.783120</td>\n",
       "    </tr>\n",
       "    <tr>\n",
       "      <th>2</th>\n",
       "      <td>2</td>\n",
       "      <td>dsgdb9nsd_000001</td>\n",
       "      <td>1</td>\n",
       "      <td>3</td>\n",
       "      <td>2JHH</td>\n",
       "      <td>-11.2548</td>\n",
       "      <td>H</td>\n",
       "      <td>0.002150</td>\n",
       "      <td>-0.006031</td>\n",
       "      <td>0.001976</td>\n",
       "      <td>H</td>\n",
       "      <td>-0.540815</td>\n",
       "      <td>1.447527</td>\n",
       "      <td>-0.876644</td>\n",
       "      <td>1.783147</td>\n",
       "    </tr>\n",
       "    <tr>\n",
       "      <th>3</th>\n",
       "      <td>3</td>\n",
       "      <td>dsgdb9nsd_000001</td>\n",
       "      <td>1</td>\n",
       "      <td>4</td>\n",
       "      <td>2JHH</td>\n",
       "      <td>-11.2543</td>\n",
       "      <td>H</td>\n",
       "      <td>0.002150</td>\n",
       "      <td>-0.006031</td>\n",
       "      <td>0.001976</td>\n",
       "      <td>H</td>\n",
       "      <td>-0.523814</td>\n",
       "      <td>1.437933</td>\n",
       "      <td>0.906397</td>\n",
       "      <td>1.783157</td>\n",
       "    </tr>\n",
       "    <tr>\n",
       "      <th>4</th>\n",
       "      <td>4</td>\n",
       "      <td>dsgdb9nsd_000001</td>\n",
       "      <td>2</td>\n",
       "      <td>0</td>\n",
       "      <td>1JHC</td>\n",
       "      <td>84.8074</td>\n",
       "      <td>H</td>\n",
       "      <td>1.011731</td>\n",
       "      <td>1.463751</td>\n",
       "      <td>0.000277</td>\n",
       "      <td>C</td>\n",
       "      <td>-0.012698</td>\n",
       "      <td>1.085804</td>\n",
       "      <td>0.008001</td>\n",
       "      <td>1.091952</td>\n",
       "    </tr>\n",
       "  </tbody>\n",
       "</table>\n",
       "</div>"
      ],
      "text/plain": [
       "   id     molecule_name  atom_index_0  atom_index_1  type  \\\n",
       "0   0  dsgdb9nsd_000001             1             0  1JHC   \n",
       "1   1  dsgdb9nsd_000001             1             2  2JHH   \n",
       "2   2  dsgdb9nsd_000001             1             3  2JHH   \n",
       "3   3  dsgdb9nsd_000001             1             4  2JHH   \n",
       "4   4  dsgdb9nsd_000001             2             0  1JHC   \n",
       "\n",
       "   scalar_coupling_constant atom_0       x_0       y_0       z_0 atom_1  \\\n",
       "0                   84.8076      H  0.002150 -0.006031  0.001976      C   \n",
       "1                  -11.2570      H  0.002150 -0.006031  0.001976      H   \n",
       "2                  -11.2548      H  0.002150 -0.006031  0.001976      H   \n",
       "3                  -11.2543      H  0.002150 -0.006031  0.001976      H   \n",
       "4                   84.8074      H  1.011731  1.463751  0.000277      C   \n",
       "\n",
       "        x_1       y_1       z_1  dist_speedup  \n",
       "0 -0.012698  1.085804  0.008001      1.091953  \n",
       "1  1.011731  1.463751  0.000277      1.783120  \n",
       "2 -0.540815  1.447527 -0.876644      1.783147  \n",
       "3 -0.523814  1.437933  0.906397      1.783157  \n",
       "4 -0.012698  1.085804  0.008001      1.091952  "
      ]
     },
     "execution_count": 83,
     "metadata": {},
     "output_type": "execute_result"
    }
   ],
   "source": [
    "# dist_speedup and atom positions are added to both train_df and test_df\n",
    "train_df.head()"
   ]
  },
  {
   "cell_type": "code",
   "execution_count": 85,
   "metadata": {},
   "outputs": [
    {
     "name": "stderr",
     "output_type": "stream",
     "text": [
      "/home/jipiration/anaconda3/envs/jipiration/lib/python3.7/site-packages/seaborn/distributions.py:2551: FutureWarning: `distplot` is a deprecated function and will be removed in a future version. Please adapt your code to use either `displot` (a figure-level function with similar flexibility) or `histplot` (an axes-level function for histograms).\n",
      "  warnings.warn(msg, FutureWarning)\n",
      "/home/jipiration/anaconda3/envs/jipiration/lib/python3.7/site-packages/seaborn/distributions.py:2551: FutureWarning: `distplot` is a deprecated function and will be removed in a future version. Please adapt your code to use either `displot` (a figure-level function with similar flexibility) or `histplot` (an axes-level function for histograms).\n",
      "  warnings.warn(msg, FutureWarning)\n",
      "/home/jipiration/anaconda3/envs/jipiration/lib/python3.7/site-packages/seaborn/distributions.py:2551: FutureWarning: `distplot` is a deprecated function and will be removed in a future version. Please adapt your code to use either `displot` (a figure-level function with similar flexibility) or `histplot` (an axes-level function for histograms).\n",
      "  warnings.warn(msg, FutureWarning)\n",
      "/home/jipiration/anaconda3/envs/jipiration/lib/python3.7/site-packages/seaborn/distributions.py:2551: FutureWarning: `distplot` is a deprecated function and will be removed in a future version. Please adapt your code to use either `displot` (a figure-level function with similar flexibility) or `histplot` (an axes-level function for histograms).\n",
      "  warnings.warn(msg, FutureWarning)\n",
      "/home/jipiration/anaconda3/envs/jipiration/lib/python3.7/site-packages/seaborn/distributions.py:2551: FutureWarning: `distplot` is a deprecated function and will be removed in a future version. Please adapt your code to use either `displot` (a figure-level function with similar flexibility) or `histplot` (an axes-level function for histograms).\n",
      "  warnings.warn(msg, FutureWarning)\n",
      "/home/jipiration/anaconda3/envs/jipiration/lib/python3.7/site-packages/seaborn/distributions.py:2551: FutureWarning: `distplot` is a deprecated function and will be removed in a future version. Please adapt your code to use either `displot` (a figure-level function with similar flexibility) or `histplot` (an axes-level function for histograms).\n",
      "  warnings.warn(msg, FutureWarning)\n",
      "/home/jipiration/anaconda3/envs/jipiration/lib/python3.7/site-packages/seaborn/distributions.py:2551: FutureWarning: `distplot` is a deprecated function and will be removed in a future version. Please adapt your code to use either `displot` (a figure-level function with similar flexibility) or `histplot` (an axes-level function for histograms).\n",
      "  warnings.warn(msg, FutureWarning)\n",
      "/home/jipiration/anaconda3/envs/jipiration/lib/python3.7/site-packages/seaborn/distributions.py:2551: FutureWarning: `distplot` is a deprecated function and will be removed in a future version. Please adapt your code to use either `displot` (a figure-level function with similar flexibility) or `histplot` (an axes-level function for histograms).\n",
      "  warnings.warn(msg, FutureWarning)\n"
     ]
    },
    {
     "data": {
      "text/plain": [
       "<seaborn.axisgrid.FacetGrid at 0x7feaa8869390>"
      ]
     },
     "execution_count": 85,
     "metadata": {},
     "output_type": "execute_result"
    },
    {
     "data": {
      "image/png": "[encoded data removed]",
      "text/plain": [
       "<Figure size 864x432 with 8 Axes>"
      ]
     },
     "metadata": {
      "needs_background": "light"
     },
     "output_type": "display_data"
    }
   ],
   "source": [
    "grid = sns.FacetGrid(train_df[['type', 'dist_speedup']], col='type', hue='type', col_wrap=4)\n",
    "grid.map(sns.distplot, 'dist_speedup')"
   ]
  },
  {
   "cell_type": "code",
   "execution_count": 86,
   "metadata": {},
   "outputs": [
    {
     "data": {
      "text/plain": [
       "4659076"
      ]
     },
     "execution_count": 86,
     "metadata": {},
     "output_type": "execute_result"
    }
   ],
   "source": [
    "len(train_df)"
   ]
  },
  {
   "cell_type": "code",
   "execution_count": 87,
   "metadata": {},
   "outputs": [],
   "source": [
    "train_df_sampled = train_df.sample(10000)"
   ]
  },
  {
   "cell_type": "code",
   "execution_count": 88,
   "metadata": {},
   "outputs": [
    {
     "data": {
      "text/plain": [
       "<AxesSubplot:xlabel='dist_speedup', ylabel='scalar_coupling_constant'>"
      ]
     },
     "execution_count": 88,
     "metadata": {},
     "output_type": "execute_result"
    },
    {
     "data": {
      "image/png": "[encoded data removed]",
      "text/plain": [
       "<Figure size 432x288 with 1 Axes>"
      ]
     },
     "metadata": {
      "needs_background": "light"
     },
     "output_type": "display_data"
    }
   ],
   "source": [
    "sns.scatterplot(x='dist_speedup', y='scalar_coupling_constant', hue='type', data=train_df_sampled)"
   ]
  },
  {
   "cell_type": "markdown",
   "metadata": {},
   "source": [
    "Distance for 1J coupling is smaller since atom pair is neighbor to each other, and its scalar coupling constant is higher.\n",
    "\n",
    "Distance tend to be long from 2J to 3J coupling, but its scalar coupling constant value is similar.\n",
    "\n",
    "It seems only distance feature is not enough, we need other information to differentiate scalar coupling."
   ]
  },
  {
   "cell_type": "markdown",
   "metadata": {},
   "source": [
    "<a id=\"id4\"></a><br>\n",
    "\n",
    "# Graph Neural Network modeling\n",
    "\n",
    "Let's use Graph convolutinal neural network for this task. I use [chainer-chemistry](https://github.com/pfnet-research/chainer-chemistry) which provides various kinds of graph convolution network and chemistry related data prerprocessing.\n",
    "\n",
    "Consider molecule as a \"graph\" and atom as a \"node\", we can use graph convolution on molecule.\n",
    "Benefit of graph convolutional neural network is that it can handle input in node order permutation way.\n",
    "\n",
    "Here I use WeaveNet implementation, original paper is the following.\n",
    "\n",
    " - [Molecular Graph Convolutions: Moving Beyond Fingerprints](https://arxiv.org/abs/1603.00856)\n",
    " \n",
    " <img src=\"https://user-images.githubusercontent.com/4609798/59920146-90e3cf00-9464-11e9-9953-c52cce397550.png\" width=400px align=center />\n",
    "\n",
    "\n",
    "Usually most of the graph convolution network deals with bond in molecule as \"edge\" information of graph, however we need to predict the value on \"atom pair\" in this competition.\n",
    "\n",
    "WeaveNet explicitly deals with both atom feature \"A\" and pair feature \"P\", so it is easy to use this network for baseline modeling."
   ]
  },
  {
   "cell_type": "markdown",
   "metadata": {},
   "source": [
    "### Data preprocessing"
   ]
  },
  {
   "cell_type": "code",
   "execution_count": 89,
   "metadata": {},
   "outputs": [],
   "source": [
    "train_test_df = pd.concat([train_df, test_df], axis=0, sort=True)\n",
    "train_test_df['coupling_type_id'] = train_test_df['type'].map(\n",
    "    {'1JHC': 0, '1JHN': 1, '2JHH': 2, '2JHN': 3, '2JHC': 4, '3JHH': 5, '3JHC': 6, '3JHN': 7})"
   ]
  },
  {
   "cell_type": "code",
   "execution_count": 92,
   "metadata": {},
   "outputs": [],
   "source": [
    "import chainer\n",
    "\n",
    "from chainer_chemistry.dataset.preprocessors.common import construct_atomic_number_array\n",
    "from chainer_chemistry.dataset.preprocessors.weavenet_preprocessor import construct_atom_type_vec, construct_formal_charge_vec, \\\n",
    "    construct_partial_charge_vec, construct_atom_ring_vec, construct_hybridization_vec, construct_hydrogen_bonding, \\\n",
    "    construct_aromaticity_vec, construct_num_hydrogens_vec\n",
    "from chainer_chemistry.dataset.preprocessors.weavenet_preprocessor import construct_pair_feature\n",
    "from chainer_chemistry.datasets.numpy_tuple_dataset import NumpyTupleDataset\n",
    "from chainer_chemistry.links.scaler.standard_scaler import StandardScaler"
   ]
  },
  {
   "cell_type": "markdown",
   "metadata": {},
   "source": [
    "#### Atom feature"
   ]
  },
  {
   "cell_type": "code",
   "execution_count": 94,
   "metadata": {},
   "outputs": [],
   "source": [
    "num_max_atoms = 29\n",
    "atom_list = ['H', 'C', 'N', 'O', 'F']\n",
    "include_unknown_atom = False\n",
    "\n",
    "# Each feature can be calculated using fuctions provided by chainer-chemistry using RDKit 'mol' instance\n",
    "construct_atomic_number_array(mol)\n",
    "atom_type_vec = construct_atom_type_vec(\n",
    "    mol, num_max_atoms, atom_list=atom_list,\n",
    "    include_unknown_atom=include_unknown_atom)\n",
    "formal_charge_vec = construct_formal_charge_vec(mol, num_max_atoms)\n",
    "partial_charge_vec = construct_partial_charge_vec(mol, num_max_atoms)\n",
    "atom_ring_vec = construct_atom_ring_vec(mol, num_max_atoms)\n",
    "hybridization_vec = construct_hybridization_vec(mol, num_max_atoms)\n",
    "hydrogen_bonding = construct_hydrogen_bonding(mol, num_max_atoms)\n",
    "aromaticity_vec = construct_aromaticity_vec(mol, num_max_atoms)"
   ]
  },
  {
   "cell_type": "code",
   "execution_count": 96,
   "metadata": {},
   "outputs": [
    {
     "data": {
      "text/plain": [
       "((29, 5), (29, 1), (29, 1), (29, 6), (29, 3), (29, 2), (29, 1))"
      ]
     },
     "execution_count": 96,
     "metadata": {},
     "output_type": "execute_result"
    }
   ],
   "source": [
    "# Each feature is in shape (atom_id, feature_dim), where atom_id is padded to \"num_max_atoms\" size when atom is not exist.\n",
    "atom_type_vec.shape, formal_charge_vec.shape, partial_charge_vec.shape, atom_ring_vec.shape, hybridization_vec.shape, hydrogen_bonding.shape, aromaticity_vec.shape"
   ]
  },
  {
   "cell_type": "code",
   "execution_count": 99,
   "metadata": {},
   "outputs": [],
   "source": [
    "WEAVE_DEFAULT_NUM_MAX_ATOMS=20\n",
    "\n",
    "def construct_atom_feature(mol, add_Hs, \n",
    "                          num_max_atoms=WEAVE_DEFAULT_NUM_MAX_ATOMS,\n",
    "                          atom_list=None, include_unknown_atom=False):\n",
    "    \"\"\"construct atom feature\n",
    "\n",
    "    Args:\n",
    "        mol (Mol): mol instance\n",
    "        add_Hs (bool): if the `mol` instance was added Hs, set True.\n",
    "        num_max_atoms (int): number of max atoms\n",
    "        atom_list (list): list of atoms to extract feature. If None, default\n",
    "            `ATOM` is used as `atom_list`\n",
    "        include_unknown_atom (bool): If False, when the `mol` includes atom\n",
    "            which is not in `atom_list`, it will raise\n",
    "            `MolFeatureExtractionError`.\n",
    "            If True, even the atom is not in `atom_list`, `atom_type` is set\n",
    "            as \"unknown\" atom.\n",
    "\n",
    "    Returns (numpy.ndarray): 2 dimensional array. First axis size is\n",
    "        `num_max_atoms`, representing each atom index.\n",
    "        Second axis for feature.\n",
    "\n",
    "    \"\"\"\n",
    "    atom_type_vec = construct_atom_type_vec(\n",
    "        mol, num_max_atoms, atom_list=atom_list,\n",
    "        include_unknown_atom=include_unknown_atom)\n",
    "    # TODO: Chilarity\n",
    "    formal_charge_vec = construct_formal_charge_vec(\n",
    "        mol, num_max_atoms=num_max_atoms)\n",
    "    partial_charge_vec = construct_partial_charge_vec(\n",
    "        mol, num_max_atoms=num_max_atoms)\n",
    "    atom_ring_vec = construct_atom_ring_vec(\n",
    "        mol, num_max_atoms=num_max_atoms)\n",
    "    hybridization_vec = construct_hybridization_vec(\n",
    "        mol, num_max_atoms=num_max_atoms)\n",
    "    hydrogen_bonding = construct_hydrogen_bonding(\n",
    "        mol, num_max_atoms=num_max_atoms)\n",
    "    aromaticity_vec = construct_aromaticity_vec(\n",
    "        mol, num_max_atoms=num_max_atoms)\n",
    "    \n",
    "    if add_Hs:\n",
    "        num_hydrogens_vec = construct_num_hydrogens_vec(\n",
    "            mol, num_max_atoms=num_max_atoms)\n",
    "        feature = numpy.hstack((atom_type_vec, formal_charge_vec,\n",
    "                               partial_charge_vec, atom_ring_vec,\n",
    "                               hybridization_vec, hydrogen_bonding,\n",
    "                               aromaticity_vec, num_hydrogens_vec))\n",
    "    else:\n",
    "        feature = numpy.hstack((atom_type_vec, formal_charge_vec,\n",
    "                               partial_charge_vec, atom_ring_vec,\n",
    "                               hybridization_vec, hydrogen_bonding,\n",
    "                               aromaticity_vec))\n",
    "    return feature"
   ]
  },
  {
   "cell_type": "markdown",
   "metadata": {},
   "source": [
    "#### pair feature"
   ]
  },
  {
   "cell_type": "code",
   "execution_count": 100,
   "metadata": {},
   "outputs": [],
   "source": [
    "pair_feature = construct_pair_feature(mol, num_max_atoms=num_max_atoms)"
   ]
  },
  {
   "cell_type": "code",
   "execution_count": 102,
   "metadata": {},
   "outputs": [
    {
     "data": {
      "text/plain": [
       "(841, 7)"
      ]
     },
     "execution_count": 102,
     "metadata": {},
     "output_type": "execute_result"
    }
   ],
   "source": [
    "# Each feature is in shape (atom_id*atom_id, feature_dim).\n",
    "pair_feature.shape"
   ]
  },
  {
   "cell_type": "code",
   "execution_count": 106,
   "metadata": {},
   "outputs": [],
   "source": [
    "from tqdm import tqdm\n",
    "\n",
    "def to_ndarray(feature_list):\n",
    "    feat_array = np.empty(len(feature_list), dtype=np.ndarray)\n",
    "    feat_array[:] = feature_list[:]\n",
    "    return feat_array\n",
    "\n",
    "def create_features(mol_names):\n",
    "    atom_array_list = []\n",
    "    adj_array_list = []\n",
    "    to_array_list = []\n",
    "    from_array_list = []\n",
    "    label_array_list = []\n",
    "    coupling_type_id_array_list = []\n",
    "    \n",
    "    for mol_name in tqdm(mol_names):\n",
    "        mol = mol_from_xyz(input_dir/f'structurs/{mol_name}.xyz')\n",
    "        \n",
    "        atom_array = construct_atom_feature(mol, add_Hs=True,\n",
    "                                            num_max_atoms = num_max_atoms, atom_list=atom_list,\n",
    "                                            include_unknown_atom=False)\n",
    "        pair_feature = construct_pair_feature(mol, num_max_atoms=num_max_atoms)\n",
    "#         atom_ids = construct_atomic_number_array(mol)\n",
    "#         df_mol = structure_df.loc[structure_df['molecule_name'] == mol_name, :]\n",
    "#         atom_id_array = df_mol['atom_id'].values.astype(np.int32)\n",
    "#         assert np.alltrue(atom_ids == atom_id_array), print(atom_ids, atom_id_array)\n",
    "\n",
    "#         xyz_array = df_mol[['x', 'y', 'z']].values\n",
    "#         dist_array = np.linalg.norm(xyz_array[:, None, :] - xyz_array[None, :, :], axis=2).astype(np.float32)\n",
    "        \n",
    "        df_mol2 = train_test_df.loc[train_test_df['molecule_name'] == mol_name, :]\n",
    "        from_array = df_mol2['atom_index_0'].values.astype(np.int32)\n",
    "        to_array = df_mol2['atom_index_1'].values.astype(np.int32)\n",
    "        label_array = df_mol2['scalar_coupling_constant'].values.astype(np.float32)\n",
    "        #label_array = df_mol2['scalar_coupling_constant_scaled'].values.astype(np.float32)\n",
    "        coupling_type_id_array = df_mol2['coupling_type_id'].values_astype(np.int32)\n",
    "        \n",
    "        atom_array_list.append(atom_array)\n",
    "        adj_array_list.append(pair_feature)\n",
    "        from_array_list.append(from_array)\n",
    "        to_array_list.append(to_array)\n",
    "        coupling_type_id_array_list.append(coupling_type_id_array)\n",
    "        label_array_list.append(label_array)\n",
    "    return tuple(map(to_ndarray, [atom_array_list, adj_array_list, from_array_list, to_arrat_list, coupling_type_id_array_list, label_array_list]))"
   ]
  },
  {
   "cell_type": "code",
   "execution_count": null,
   "metadata": {},
   "outputs": [],
   "source": [
    "# For debugging\n",
    "\n",
    "k = create_features(train_mol_names[:2])"
   ]
  },
  {
   "cell_type": "markdown",
   "metadata": {},
   "source": [
    "Calculating all features takes time (around half day), so I already uploaded calculated data as \"dataset\" [here](https://www.kaggle.com/corochann/champs-weave-dataset). We can use this cache for now."
   ]
  },
  {
   "cell_type": "code",
   "execution_count": 110,
   "metadata": {},
   "outputs": [
    {
     "name": "stdout",
     "output_type": "stream",
     "text": [
      "[train] done in 15.193 s\n",
      "[test] done in 8.919 s\n"
     ]
    }
   ],
   "source": [
    "def load_dataset(filepath):\n",
    "    if not os.path.exists(filepath):\n",
    "        return None\n",
    "    load_data = numpy.load(filepath, allow_pickle=True)\n",
    "    result = []\n",
    "    i = 0\n",
    "    while True:\n",
    "        key = 'arr_{}'.format(i)\n",
    "        if key in load_data.keys():\n",
    "            result.append(load_data[key])\n",
    "            i += 1\n",
    "        else:\n",
    "            break\n",
    "    return NumpyTupleDataset(*result)\n",
    "\n",
    "with timer('train'):\n",
    "    train = load_dataset('./input/champs-weave-dataset/train_data_v2.npz')\n",
    "with timer('test'):\n",
    "    train = load_dataset('./input/champs-weave-dataset/test_data_v2.npz')"
   ]
  },
  {
   "cell_type": "markdown",
   "metadata": {},
   "source": [
    "Let me explain each data.\n",
    "\n",
    "`train[0]` is to get 0-th molecule's data."
   ]
  },
  {
   "cell_type": "code",
   "execution_count": 111,
   "metadata": {},
   "outputs": [],
   "source": [
    "atom_array, dist_array, from_array, to_array, coupling_type_id_array, label_array = train[0]"
   ]
  },
  {
   "cell_type": "markdown",
   "metadata": {},
   "source": [
    "- atom_array: stores feature for each atom, shape (num_atom, feature_dim)\n",
    "- dist_array: stores feature for each atom pair, shape (num_atom * num_atom, feature_dim)\n",
    "\n",
    "- from_array: stores index for atom pair to be predicted\n",
    "- to_array  : stores index for atom pair to be predicted\n",
    "- coupling_type_id_array: stores coupling type for each atom pair to be predicted\n",
    "- label_array: stores `scalar_couling_constant` for each atom pair to be predicted"
   ]
  },
  {
   "cell_type": "code",
   "execution_count": 113,
   "metadata": {},
   "outputs": [
    {
     "data": {
      "text/plain": [
       "((29, 20), (841, 8))"
      ]
     },
     "execution_count": 113,
     "metadata": {},
     "output_type": "execute_result"
    }
   ],
   "source": [
    "atom_array.shape, dist_array.shape"
   ]
  },
  {
   "cell_type": "code",
   "execution_count": 114,
   "metadata": {},
   "outputs": [
    {
     "data": {
      "text/plain": [
       "(array([2, 2, 2, 3, 3], dtype=int32),\n",
       " array([0, 1, 3, 0, 1], dtype=int32),\n",
       " array([nan, nan, nan, nan, nan], dtype=float32),\n",
       " array([4, 0, 5, 0, 4], dtype=int32))"
      ]
     },
     "execution_count": 114,
     "metadata": {},
     "output_type": "execute_result"
    }
   ],
   "source": [
    "from_array, to_array, label_array, coupling_type_id_array"
   ]
  },
  {
   "cell_type": "markdown",
   "metadata": {},
   "source": [
    "### converter\n",
    "\n",
    "Each data (`train[0], train[1]...`) have different length for the label.\n",
    "`converter` defines how to make batch from data for neural network training."
   ]
  },
  {
   "cell_type": "code",
   "execution_count": null,
   "metadata": {},
   "outputs": [],
   "source": [
    "from chainer.dataset.convert import _concat_arrays, to_device\n",
    "from itertools import chain\n",
    "\n",
    "def concat_with_padding(batch, device, i, padding):\n",
    "    return to_device(device, _concat_arrays([example[i] for example in batch], padding))\n",
    "\n",
    "\n",
    "def flatten_array(list_of_list, dtype=np.float32):\n",
    "    flatten_list = list(chain.from_iterable(list_of_list))\n",
    "    return np.array(flatten_list, dtype=dtype)\n",
    "\n",
    "class EdgeConverter:\n",
    "\n",
    "    def __init__(self, return_label=True):\n",
    "        self.return_label = return_label\n",
    "\n",
    "    def __call__(self, batch, device=None):\n",
    "        # atom_array, dist_array, from_array, to_array, coupling_type_id_array, label_array, \n",
    "        atom = concat_with_padding(batch, device, 0, padding=None)\n",
    "        adj = concat_with_padding(batch, device, 1, padding=None)\n",
    "        from_array = to_device(device, flatten_array([example[2] for example in batch], dtype=np.int32))\n",
    "        to_array = to_device(device,flatten_array([example[3] for example in batch], dtype=np.int32))\n",
    "        coupling_type = to_device(device, flatten_array([example[4] for example in batch], dtype=np.int32))\n",
    "        label = to_device(device, flatten_array([example[5] for example in batch], dtype=np.float32))\n",
    "        batch_indices = to_device(device, flatten_array([np.ones(len(example[2]), dtype=np.int32) * i for i, example in enumerate(batch)], dtype=np.int32))\n",
    "\n",
    "        if self.return_label:\n",
    "            return atom, adj, from_array, to_array, coupling_type, batch_indices, label[:, None]\n",
    "        else:\n",
    "            return atom, adj, from_array, to_array, coupling_type, batch_indices\n"
   ]
  },
  {
   "cell_type": "code",
   "execution_count": null,
   "metadata": {},
   "outputs": [],
   "source": [
    "converter = EdgeConverter()\n",
    "#print('0', train[0])\n",
    "#print('1', train[1])\n",
    "batch = [train[0], train[1]]\n",
    "\n",
    "input_data = converter(batch, device=-1)\n",
    "atom, adj, from_array, to_array, coupling_type, batch_indices, label = input_data\n",
    "print('input_data:', atom.shape, adj.shape, from_array.shape, to_array.shape, coupling_type.shape, batch_indices.shape, label.shape)"
   ]
  },
  {
   "cell_type": "markdown",
   "metadata": {},
   "source": [
    "`train[0]` and `train[1]` are stacked to create 1-minibatch in the above example."
   ]
  },
  {
   "cell_type": "markdown",
   "metadata": {},
   "source": [
    "### Scaler\n",
    "\n",
    "Each coupling constant value is different, so I will define scaler for each coupling constant."
   ]
  },
  {
   "cell_type": "code",
   "execution_count": null,
   "metadata": {},
   "outputs": [],
   "source": [
    "class CouplingTypeScaler(chainer.Link):\n",
    "    \n",
    "    def __init__(self):\n",
    "        super(CouplingTypeScaler, self).__init__()\n",
    "        self.mean = None\n",
    "        self.register_presistent('mean')\n",
    "        self.std = None\n",
    "        self.register_persistent('std')\n",
    "        \n",
    "        \n",
    "    def set_param(self, mean, std):\n",
    "        self.mean = mean\n",
    "        self.std = std\n",
    "        \n",
    "    def inverse_transform(self, x, coupling_indices):\n",
    "        assert x.ndim == 2, x.shape\n",
    "        assert x.shape[1] == 1, x.shape\n",
    "        assert x.shape[0] == len(coupling_indices)\n",
    "        x = x * self.std[coupling_indices][:, None] + self.mean[coupling_indices][:, None]\n",
    "        return x"
   ]
  },
  {
   "cell_type": "code",
   "execution_count": null,
   "metadata": {},
   "outputs": [],
   "source": [
    "# scale each scalar couplint constant\n",
    "scaler = StandardScaler()\n",
    "\n",
    "mean_list = []\n",
    "std_list = []\n",
    "\n",
    "types =  ['1JHC', '1JHN',  '2JHH', '2JHN', '2JHC', '3JHH', '3JHC', '3JHN']\n",
    "\n",
    "for target_type in types:\n",
    "    print('scaling type: ', target_type)\n",
    "    label = train_df.loc[train_df['type'] == target_type, 'scalar_coupling_constant'].values\n",
    "    train_df.loc[train_df['type'] == target_type, 'scalar_coupling_constant_scaled'] = scaler.fit_transform(label)\n",
    "    print('mean', scaler.mean[0], 'std', scaler.std[0])\n",
    "    mean_list.append(scaler.mean[0])\n",
    "    std_list.append(scaler.std[0])\n",
    "\n",
    "coupling_type_scaler = CouplingTypeScaler()\n",
    "coupling_type_scaler.set_param(np.array(mean_list, dtype=np.float32), np.array(std_list, dtype=np.float32))\n"
   ]
  },
  {
   "cell_type": "markdown",
   "metadata": {},
   "source": [
    "## Model definition"
   ]
  },
  {
   "cell_type": "code",
   "execution_count": null,
   "metadata": {},
   "outputs": [],
   "source": []
  }
 ],
 "metadata": {
  "kernelspec": {
   "display_name": "jipiration",
   "language": "python",
   "name": "jipiration"
  },
  "language_info": {
   "codemirror_mode": {
    "name": "ipython",
    "version": 3
   },
   "file_extension": ".py",
   "mimetype": "text/x-python",
   "name": "python",
   "nbconvert_exporter": "python",
   "pygments_lexer": "ipython3",
   "version": "3.7.5"
  }
 },
 "nbformat": 4,
 "nbformat_minor": 4
}
